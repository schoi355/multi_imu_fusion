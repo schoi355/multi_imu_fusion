{
 "cells": [
  {
   "cell_type": "code",
   "execution_count": 1,
   "metadata": {},
   "outputs": [],
   "source": [
    "import numpy as np\n",
    "import scipy\n",
    "from scipy.spatial.transform import Rotation as R\n",
    "import pandas as pd\n",
    "import matplotlib.pyplot as plt\n",
    "from tqdm import trange\n",
    "%matplotlib inline"
   ]
  },
  {
   "cell_type": "code",
   "execution_count": 2,
   "metadata": {},
   "outputs": [],
   "source": [
    "def read_txt(datafile):\n",
    "    with open(datafile, \"r\") as file:\n",
    "        lines = file.readlines()\n",
    "        data = [[float(num) for num in line.split()] for line in lines]\n",
    "    return data"
   ]
  },
  {
   "cell_type": "code",
   "execution_count": 3,
   "metadata": {},
   "outputs": [],
   "source": [
    "def dynamics(dt, state, RW, w_input_noise, a_input_noise, num_imus):\n",
    "    state_next = np.zeros(9+6*num_imus) \n",
    "    state_next[0:3] = state[0:3] + state[3:6] * dt                                     # omega\n",
    "    state_next[3:6] = w_input_noise * np.random.randn(3)                               # omega_dot\n",
    "    state_next[6:9] = a_input_noise * np.random.randn(3)                               # specific force\n",
    "    state_next[9:9+6*num_imus] = state[9:9+6*num_imus] + RW * np.random.randn(len(RW)) # Rate random walk state\n",
    "    return state_next\n",
    "\n",
    "def dynamics_est(dt, state, num_imus):\n",
    "    state_next = np.zeros((len(state),9+6*num_imus))\n",
    "    for i in range(len(state)):\n",
    "        state_next[i,0:3] = state[i,0:3] + state[i,3:6] * dt          # omega\n",
    "        state_next[i,3:6] = np.zeros(3)                               # omega_dot\n",
    "        state_next[i,6:9] = np.zeros(3)                               # specific force\n",
    "        state_next[i,9:9+6*num_imus] = state[i,9:9+6*num_imus]        # Rate random walk state\n",
    "    return state_next"
   ]
  },
  {
   "cell_type": "code",
   "execution_count": 4,
   "metadata": {},
   "outputs": [],
   "source": [
    "def wedge(a):\n",
    "    Ahat = np.array([[0, -a[2], a[1]],\n",
    "                    [a[2], 0, -a[0]],\n",
    "                    [-a[1], a[0], 0]])\n",
    "    return Ahat"
   ]
  },
  {
   "cell_type": "code",
   "execution_count": 5,
   "metadata": {},
   "outputs": [],
   "source": [
    "def measurement(state, pos_r, Rb_si, WN, num_imus):\n",
    "    meas = np.zeros(6*num_imus)\n",
    "    for i in range(num_imus):\n",
    "        Rb_si_sub = Rb_si[i]\n",
    "        r_sub = pos_r[i]\n",
    "        sf = state[6:9]\n",
    "        omega = state[0:3]\n",
    "        omega_dot = state[3:6]\n",
    "        RW_sub = state[9+6*i:15+6*i]\n",
    "        s_i = Rb_si_sub @ (sf + wedge(omega) @ wedge(omega) @ r_sub + wedge(omega_dot) @ r_sub + WN[i*num_imus:3+i*num_imus]*np.random.randn(3)) + RW_sub[0:3]\n",
    "        omega_i = Rb_si_sub @ omega + WN[3+i*num_imus:6+i*num_imus]*np.random.randn(3) + RW_sub[3:6]\n",
    "        meas[i*6:6+i*6] = np.concatenate((s_i, omega_i))\n",
    "    return meas\n",
    "\n",
    "def measurement_est(state_input, pos_r, Rb_si, num_imus):\n",
    "    meas = np.zeros((6*num_imus, len(state_input)))\n",
    "    for j in range(len(state_input)):\n",
    "        state = state_input[j]\n",
    "        for i in range(num_imus):\n",
    "            Rb_si_sub = Rb_si[i]\n",
    "            r_sub = pos_r[i]\n",
    "            sf = state[6:9]\n",
    "            omega = state[0:3]\n",
    "            omega_dot = state[3:6]\n",
    "            RW_sub = state[9+6*i:15+6*i]\n",
    "            s_i = Rb_si_sub @ (sf + wedge(omega) @ wedge(omega) @ r_sub + wedge(omega_dot) @ r_sub) + RW_sub[0:3]\n",
    "            omega_i = Rb_si_sub @ omega + RW_sub[3:6]\n",
    "            meas[i*6:6+i*6, j] = np.concatenate((s_i, omega_i))\n",
    "\n",
    "    return meas"
   ]
  },
  {
   "cell_type": "code",
   "execution_count": 6,
   "metadata": {},
   "outputs": [],
   "source": [
    "def UKF_disi(state, Cov, R, Q, y_meas, dt, pos_r, Rb_si, num_imus):\n",
    "\talpha = 1.0\n",
    "\tkappa = 1.0\n",
    "\tbeta = 1.0\n",
    "\n",
    "\t# Generate 2n+1 particles for every state\n",
    "\tn = len(state)\n",
    "\tParticles = np.zeros((2*n+1, n))\n",
    "\tParticles[0] = state\n",
    "\tparam_lambda = alpha**2*(n+kappa)-n # labmda is a parameter for pertubing the states\n",
    "\t# delx = np.linalg.cholesky((n+param_lambda)*Cov)\n",
    "\tdelx = scipy.linalg.sqrtm((n+param_lambda)*Cov)\n",
    "\tfor i in range(n):\n",
    "\t\tParticles[i+1] = state + delx[i].real\n",
    "\t\tParticles[n+i+1] = state - delx[i].real\n",
    "\n",
    "\t# Propagate the particles according to discrete time dynamics (2n+1 particles)\n",
    "\tParticles_prior = dynamics_est(dt, Particles, num_imus)\n",
    "\n",
    "\t# Compute prior state mean and covariance\n",
    "\tw0_m = param_lambda / (n+param_lambda)\n",
    "\tw0_c = param_lambda / (n+param_lambda) + 1.0 - alpha**2 + beta\n",
    "\twi_mc = 1.0 / (2.0*(n+param_lambda))\n",
    "\tstate_prior = w0_m*Particles_prior[0] + np.sum(wi_mc*Particles_prior[1:], axis=0)\n",
    "\tdiff = Particles_prior[0] - state_prior\n",
    "\tdiff_col = diff[:, np.newaxis]\n",
    "\tdiff_row = diff[np.newaxis, :]\n",
    "\tCov_prior = w0_c * diff_col @ diff_row\n",
    "\tfor i in range(1, len(Particles_prior)):\n",
    "\t\tdiff = Particles_prior[i] - state_prior\n",
    "\t\tdiff_col = diff[:, np.newaxis]\n",
    "\t\tdiff_row = diff[np.newaxis, :]\n",
    "\t\tCov_prior = Cov_prior + wi_mc * diff_col @ diff_row\n",
    "\t# print(Cov_prior)\n",
    "\t# Cov_prior = w0_c*(Particles_prior[0] - state_prior)*(Particles_prior[0] - state_prior).T\n",
    "\t# for i in range(1, len(Particles_prior)):\n",
    "\t# \tCov_prior = Cov_prior + wi_mc*(Particles_prior[i] - state_prior)*(Particles_prior[i] - state_prior).T\n",
    "\tCov_prior = Cov_prior + R\n",
    "\n",
    "\t# Regenerate particles\n",
    "\tdelx = np.linalg.cholesky((n+param_lambda)*Cov_prior)\n",
    "\tParticles_rev = np.zeros((2*n+1, n))\n",
    "\tParticles_rev[0] = state_prior\n",
    "\tfor i in range(n):\n",
    "\t\tParticles_rev[i+1] = state + delx[i].real\n",
    "\t\tParticles_rev[n+i+1] = state - delx[i].real\n",
    "\n",
    "\t# Predict measurements for each particle\n",
    "\tY_part = measurement_est(Particles_rev, pos_r, Rb_si, num_imus)\n",
    "\n",
    "\t# Compute weighted measurement mean and covariance\n",
    "\ty_hat = np.sum(wi_mc*Y_part, axis=1)\n",
    "\tS = np.zeros((len(y_hat), len(y_hat)))\n",
    "\tfor i in range(len(Y_part[0])):\n",
    "\t\ty_diff = Y_part[:,i] - y_hat\n",
    "\t\ty_diff_col = y_diff[:, np.newaxis]\n",
    "\t\ty_diff_row = y_diff[np.newaxis, :]\n",
    "\t\tS = S + wi_mc * y_diff_col @ y_diff_row\n",
    "\t\t# S = S + wi_mc*(Y_part[i] - y_hat)*(Y_part[i] - y_hat).T\n",
    "\tS = S + Q\n",
    "\t# print(np.allclose(S, S.T))\n",
    "\n",
    "\t# Determine the cross-covariance between the state and observation\n",
    "\tSig_xz = np.zeros((len(state_prior),len(y_hat)))\n",
    "\tfor i in range(len(Y_part[0])):\n",
    "\t\tParticles_diff = Particles_rev[i] - state_prior\n",
    "\t\tY_part_diff = Y_part[:,i] - y_hat\n",
    "\t\tParticles_col = Particles_diff[:, np.newaxis] \n",
    "\t\tY_part_row = Y_part_diff[np.newaxis, :]\n",
    "\n",
    "\t\tSig_xz = Sig_xz + wi_mc * (Particles_col * Y_part_row)\n",
    "\t\n",
    "\t# Compute the Kalman Gain\n",
    "\tK = Sig_xz @ np.linalg.inv(S)\n",
    "\n",
    "\t# Compute the predicted mean and covariance\n",
    "\tstate_est = state_prior + K @ (y_meas - y_hat)\n",
    "\tCov_est = Cov_prior - K @ S @ K.T\n",
    "\t# print(np.linalg.eigvals(Cov_prior))\n",
    "\n",
    "\treturn state_est, Cov_est"
   ]
  },
  {
   "cell_type": "code",
   "execution_count": 7,
   "metadata": {},
   "outputs": [],
   "source": [
    "# measurements\n",
    "measurements = np.array(read_txt(\"data/imu.txt\"))"
   ]
  },
  {
   "cell_type": "code",
   "execution_count": 8,
   "metadata": {},
   "outputs": [
    {
     "name": "stderr",
     "output_type": "stream",
     "text": [
      "100%|██████████| 36000/36000 [08:55<00:00, 67.18it/s] \n"
     ]
    }
   ],
   "source": [
    "num_imus = 3\n",
    "\n",
    "# Other DISI Kit params\n",
    "# Positions in 3xN where each column is position of 1 IMU\n",
    "pos_r = np.array([[0.0, 0.0, 0.1],\n",
    "         [0.0, 0.1, 0.0],\n",
    "         [0.0, 0.0, 0.0]])\n",
    "Rb_si = [np.eye(3), np.eye(3), np.eye(3)] # Rotation matrix\n",
    "w_input_noise = 1e-5\n",
    "a_input_noise = 1e-5\n",
    "RW = 1e-4 * np.ones(6*num_imus)\n",
    "WN = 1e-4 * np.ones(6*num_imus)\n",
    "\n",
    "dt = 0.01\n",
    "time = np.arange(0, 360, 0.01)\n",
    "\n",
    "\n",
    "# state: omega, alpha, accel, 6 x number_of_imus (RW)\n",
    "state = np.zeros(9 + 6*num_imus)\n",
    "state_est = np.zeros(9 + 6*num_imus)\n",
    "state_hist = np.zeros((len(time), 9 + 6*num_imus))\n",
    "state_est_hist = np.zeros((len(time), 9 + 6*num_imus))\n",
    "meas = np.zeros(6*num_imus)\n",
    "meas_hist = np.zeros((len(time),6*num_imus))\n",
    "\n",
    "\n",
    "# Covariance of dynamics\n",
    "R = np.zeros((9 + 6*num_imus, 9 + 6*num_imus))\n",
    "R[3:6,3:6] = w_input_noise ** 2 * np.eye(3)\n",
    "R[6:9,6:9] = a_input_noise ** 2 * np.eye(3)\n",
    "R[9:9+6*num_imus, 9:9+6*num_imus] = np.diag(RW**2)\n",
    "\n",
    "Q = np.diag(WN**2)\n",
    "Cov_est = 1e-4*np.eye(9+6*num_imus)\n",
    "\n",
    "for i in trange(len(time)):\n",
    "    state_hist[i] = state\n",
    "    state = dynamics(dt, state, RW, w_input_noise, a_input_noise, num_imus)\n",
    "    meas = measurements[i]\n",
    "    meas_hist[i] = meas\n",
    "    state_est, Cov_est = UKF_disi(state, Cov_est, R, Q, meas, dt, pos_r, Rb_si, num_imus)\n",
    "    state_est_hist[i] = state_est\n"
   ]
  },
  {
   "cell_type": "code",
   "execution_count": 9,
   "metadata": {},
   "outputs": [
    {
     "name": "stdout",
     "output_type": "stream",
     "text": [
      "[[ 1  2  3  4  5]\n",
      " [ 2  4  6  8 10]\n",
      " [ 3  6  9 12 15]\n",
      " [ 4  8 12 16 20]\n",
      " [ 5 10 15 20 25]]\n"
     ]
    }
   ],
   "source": [
    "A = np.array([1, 2, 3, 4, 5])\n",
    "B = np.array([1, 2, 3, 4, 5])\n",
    "A = A[:, np.newaxis]  # Reshape A to a column vector (27x1)\n",
    "B = B[np.newaxis, :]  # Reshape B to a row vector (1x18)\n",
    "C = A @ B\n",
    "print(C)"
   ]
  },
  {
   "cell_type": "code",
   "execution_count": 10,
   "metadata": {},
   "outputs": [
    {
     "data": {
      "text/plain": [
       "0.009982066912517797"
      ]
     },
     "execution_count": 10,
     "metadata": {},
     "output_type": "execute_result"
    }
   ],
   "source": [
    "aa = 0.01 * np.random.randn(10000)\n",
    "np.std(aa)"
   ]
  }
 ],
 "metadata": {
  "kernelspec": {
   "display_name": "Python 3",
   "language": "python",
   "name": "python3"
  },
  "language_info": {
   "codemirror_mode": {
    "name": "ipython",
    "version": 3
   },
   "file_extension": ".py",
   "mimetype": "text/x-python",
   "name": "python",
   "nbconvert_exporter": "python",
   "pygments_lexer": "ipython3",
   "version": "3.8.10"
  }
 },
 "nbformat": 4,
 "nbformat_minor": 2
}

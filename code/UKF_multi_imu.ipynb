{
 "cells": [
  {
   "cell_type": "code",
   "execution_count": 1,
   "metadata": {},
   "outputs": [],
   "source": [
    "import numpy as np\n",
    "import scipy\n",
    "import matplotlib.pyplot as plt\n",
    "from tqdm import trange\n",
    "import allan_variance\n",
    "np.random.seed(0)"
   ]
  },
  {
   "cell_type": "code",
   "execution_count": 2,
   "metadata": {},
   "outputs": [],
   "source": [
    "def read_txt(datafile):\n",
    "    with open(datafile, \"r\") as file:\n",
    "        lines = file.readlines()\n",
    "        data = [[float(num) for num in line.split()] for line in lines]\n",
    "    return data"
   ]
  },
  {
   "cell_type": "code",
   "execution_count": 3,
   "metadata": {},
   "outputs": [],
   "source": [
    "def dynamics(dt, state, RW, w_input_noise, a_input_noise, num_imus):\n",
    "    state_next = np.zeros(9+6*num_imus) \n",
    "    state_next[0:3] = state[0:3] + state[3:6] * dt                                     # omega\n",
    "    state_next[3:6] = w_input_noise * np.random.randn(3)                               # omega_dot\n",
    "    state_next[6:9] = state[6:9] + a_input_noise * np.random.randn(3)                  # specific force, force assumed constant (gravity, in satellite applications)\n",
    "    state_next[9:9+6*num_imus] = state[9:9+6*num_imus] + RW * np.random.randn(len(RW)) # Rate random walk state\n",
    "    return state_next\n",
    "\n",
    "def dynamics_est(dt, state, num_imus):\n",
    "    state_next = np.zeros((state.shape))\n",
    "    state_next[:,0:3] = state[:,0:3] + state[:,3:6] * dt        # omega\n",
    "    state_next[:,3:6] = np.zeros(3)                             # omega_dot\n",
    "    state_next[:,6:9] = state[:,6:9]                            # specific force\n",
    "    state_next[:,9:9+6*num_imus] = state[:,9:9+6*num_imus]      # Rate random walk state\n",
    "    return state_next"
   ]
  },
  {
   "cell_type": "code",
   "execution_count": 4,
   "metadata": {},
   "outputs": [],
   "source": [
    "def wedge(a):\n",
    "    Ahat = np.array([[0, -a[2], a[1]],\n",
    "                    [a[2], 0, -a[0]],\n",
    "                    [-a[1], a[0], 0]])\n",
    "    return Ahat"
   ]
  },
  {
   "cell_type": "code",
   "execution_count": 5,
   "metadata": {},
   "outputs": [],
   "source": [
    "def measurement(state, pos_r, Rb_si, WN, num_imus):\n",
    "    meas = np.zeros(6*num_imus)\n",
    "    for i in range(num_imus):\n",
    "        Rb_si_sub = Rb_si[i]\n",
    "        r_sub = pos_r[i]\n",
    "        omega = state[0:3]\n",
    "        omega_dot = state[3:6]\n",
    "        sf = state[6:9]\n",
    "        RW_sub = state[9+i*6:15+6*i]\n",
    "        omega_i = Rb_si_sub @ omega + WN[i*6:i*6+3]*np.random.randn(3) + RW_sub[0:3]\n",
    "        sf_i = Rb_si_sub @ (sf + wedge(omega) @ wedge(omega) @ r_sub + wedge(omega_dot) @ r_sub + WN[i*6+3:(i+1)*6]*np.random.randn(3)) + RW_sub[3:6]\n",
    "        meas[i*6:6+i*6] = np.concatenate((omega_i, sf_i)) # omega, specific force\n",
    "    return meas\n",
    "\n",
    "def measurement_est(state_input, pos_r, Rb_si, num_imus):\n",
    "    meas = np.zeros((6*num_imus, len(state_input)))\n",
    "    for j in range(len(state_input)):\n",
    "        state = state_input[j]\n",
    "        for i in range(num_imus):\n",
    "            Rb_si_sub = Rb_si[i]\n",
    "            r_sub = pos_r[i]\n",
    "            omega = state[0:3]\n",
    "            omega_dot = state[3:6]\n",
    "            sf = state[6:9]\n",
    "            RW_sub = state[9+6*i:15+6*i]\n",
    "            omega_i = Rb_si_sub @ omega + RW_sub[0:3]\n",
    "            sf_i = Rb_si_sub @ (sf + wedge(omega) @ wedge(omega) @ r_sub + wedge(omega_dot) @ r_sub) + RW_sub[3:6]\n",
    "            meas[i*6:6+i*6, j] = np.concatenate((omega_i, sf_i)) # omega, specific force\n",
    "    return meas"
   ]
  },
  {
   "cell_type": "code",
   "execution_count": 6,
   "metadata": {},
   "outputs": [],
   "source": [
    "def UKF_disi(state, Cov, R, Q, y_meas, dt, pos_r, Rb_si, num_imus):\n",
    "\talpha = 1.0\n",
    "\tkappa = 1.0\n",
    "\tbeta = 1.0\n",
    "\n",
    "\t# Generate 2n+1 sigmaPoints for every state: \n",
    "\t# one at the mean and 2n for +/- perturbations of each element of the state\n",
    "\tn = len(state)\n",
    "\tsigmaPoints = np.zeros((2*n+1, n))\n",
    "\tsigmaPoints[0] = state\n",
    "\tparam_lambda = alpha**2*(n+kappa)-n # lambda is a parameter for pertubing the states\n",
    "\t# delx = np.linalg.cholesky((n+param_lambda)*Cov)\n",
    "\tdelx = scipy.linalg.sqrtm((n+param_lambda)*Cov)\n",
    "\tfor i in range(n):\n",
    "\t\tsigmaPoints[i+1] = state + delx[i].real\n",
    "\t\tsigmaPoints[n+i+1] = state - delx[i].real\n",
    "\n",
    "\t# Propagate the sigmaPoints according to discrete time dynamics\n",
    "\tsigmaPoints_prior = dynamics_est(dt, sigmaPoints, num_imus)\n",
    "\n",
    "\t# Compute prior state mean and covariance\n",
    "\tw0_m = param_lambda / (n+param_lambda)\n",
    "\tw0_c = param_lambda / (n+param_lambda) + 1.0 - alpha**2 + beta\n",
    "\twi_mc = 1.0 / (2.0*(n+param_lambda))\n",
    "\tstate_prior = w0_m*sigmaPoints_prior[0] + np.sum(wi_mc*sigmaPoints_prior[1:], axis=0)\n",
    "\tdiff = sigmaPoints_prior[0] - state_prior\n",
    "\tdiff_col = diff[:, np.newaxis]\n",
    "\tdiff_row = diff[np.newaxis, :]\n",
    "\tCov_prior = w0_c * diff_col @ diff_row\n",
    "\tfor i in range(1, len(sigmaPoints_prior)):\n",
    "\t\tdiff = sigmaPoints_prior[i] - state_prior\n",
    "\t\tdiff_col = diff[:, np.newaxis]\n",
    "\t\tdiff_row = diff[np.newaxis, :]\n",
    "\t\tCov_prior = Cov_prior + wi_mc * diff_col @ diff_row\n",
    "\tCov_prior = Cov_prior + R\n",
    "\n",
    "\t# Regenerate sigmaPoints\n",
    "\tdelx = np.linalg.cholesky((n+param_lambda)*Cov_prior)\n",
    "\tsigmaPoints_rev = np.zeros((2*n+1, n))\n",
    "\tsigmaPoints_rev[0] = state_prior\n",
    "\tfor i in range(n):\n",
    "\t\tsigmaPoints_rev[i+1] = state + delx[i].real\n",
    "\t\tsigmaPoints_rev[n+i+1] = state - delx[i].real\n",
    "\n",
    "\t# Predict measurements for each particle\n",
    "\tY_part = measurement_est(sigmaPoints_rev, pos_r, Rb_si, num_imus)\n",
    "\n",
    "\t# Compute weighted measurement mean and covariance\n",
    "\ty_hat = np.sum(wi_mc*Y_part, axis=1)\n",
    "\tS = np.zeros((len(y_hat), len(y_hat)))\n",
    "\tfor i in range(len(Y_part[0])):\n",
    "\t\ty_diff = Y_part[:,i] - y_hat\n",
    "\t\ty_diff_col = y_diff[:, np.newaxis]\n",
    "\t\ty_diff_row = y_diff[np.newaxis, :]\n",
    "\t\tS = S + wi_mc * y_diff_col @ y_diff_row\n",
    "\tS = S + Q\n",
    "\n",
    "\t# Determine the cross-covariance between the state and observation\n",
    "\tSig_xz = np.zeros((len(state_prior),len(y_hat)))\n",
    "\tfor i in range(len(Y_part[0])):\n",
    "\t\tsigmaPoints_diff = sigmaPoints_rev[i] - state_prior\n",
    "\t\tY_part_diff = Y_part[:,i] - y_hat\n",
    "\t\tsigmaPoints_col = sigmaPoints_diff[:, np.newaxis] \n",
    "\t\tY_part_row = Y_part_diff[np.newaxis, :]\n",
    "\n",
    "\t\tSig_xz = Sig_xz + wi_mc * (sigmaPoints_col * Y_part_row)\n",
    "\t\n",
    "\t# Compute the Kalman Gain\n",
    "\tK = Sig_xz @ np.linalg.inv(S)\n",
    "\n",
    "\t# Compute the predicted mean and covariance\n",
    "\tstate_est = state_prior + K @ (y_meas - y_hat)\n",
    "\tCov_est = Cov_prior - K @ S @ K.T\n",
    "\n",
    "\treturn state_est, Cov_est"
   ]
  },
  {
   "cell_type": "code",
   "execution_count": 7,
   "metadata": {},
   "outputs": [],
   "source": [
    "# measurements\n",
    "measurements = np.array(read_txt(\"../data/imu.txt\"))"
   ]
  },
  {
   "cell_type": "code",
   "execution_count": 8,
   "metadata": {},
   "outputs": [
    {
     "name": "stderr",
     "output_type": "stream",
     "text": [
      "  0%|          | 15/36000 [00:00<07:57, 75.40it/s]"
     ]
    },
    {
     "name": "stdout",
     "output_type": "stream",
     "text": [
      "(55, 27)\n",
      "(55, 27)\n",
      "(55, 27)\n",
      "(55, 27)\n",
      "(55, 27)\n",
      "(55, 27)\n",
      "(55, 27)\n",
      "(55, 27)\n",
      "(55, 27)\n",
      "(55, 27)\n",
      "(55, 27)\n",
      "(55, 27)\n",
      "(55, 27)\n",
      "(55, 27)\n",
      "(55, 27)\n"
     ]
    },
    {
     "name": "stderr",
     "output_type": "stream",
     "text": [
      "  0%|          | 23/36000 [00:00<07:59, 75.10it/s]"
     ]
    },
    {
     "name": "stdout",
     "output_type": "stream",
     "text": [
      "(55, 27)\n",
      "(55, 27)\n",
      "(55, 27)\n",
      "(55, 27)\n",
      "(55, 27)\n",
      "(55, 27)\n",
      "(55, 27)\n",
      "(55, 27)\n",
      "(55, 27)\n",
      "(55, 27)\n",
      "(55, 27)\n",
      "(55, 27)\n",
      "(55, 27)\n",
      "(55, 27)\n",
      "(55, 27)\n",
      "(55, 27)\n",
      "(55, 27)\n",
      "(55, 27)\n"
     ]
    },
    {
     "name": "stderr",
     "output_type": "stream",
     "text": [
      "  0%|          | 42/36000 [00:00<07:03, 84.96it/s]"
     ]
    },
    {
     "name": "stdout",
     "output_type": "stream",
     "text": [
      "(55, 27)\n",
      "(55, 27)\n",
      "(55, 27)\n",
      "(55, 27)\n",
      "(55, 27)\n",
      "(55, 27)\n",
      "(55, 27)\n",
      "(55, 27)\n",
      "(55, 27)\n",
      "(55, 27)\n",
      "(55, 27)\n",
      "(55, 27)\n",
      "(55, 27)\n",
      "(55, 27)\n",
      "(55, 27)\n",
      "(55, 27)\n",
      "(55, 27)\n",
      "(55, 27)\n"
     ]
    },
    {
     "name": "stderr",
     "output_type": "stream",
     "text": [
      "  0%|          | 60/36000 [00:00<06:59, 85.76it/s]"
     ]
    },
    {
     "name": "stdout",
     "output_type": "stream",
     "text": [
      "(55, 27)\n",
      "(55, 27)\n",
      "(55, 27)\n",
      "(55, 27)\n",
      "(55, 27)\n",
      "(55, 27)\n",
      "(55, 27)\n",
      "(55, 27)\n",
      "(55, 27)\n",
      "(55, 27)\n",
      "(55, 27)\n",
      "(55, 27)\n",
      "(55, 27)\n",
      "(55, 27)\n",
      "(55, 27)\n",
      "(55, 27)\n",
      "(55, 27)\n",
      "(55, 27)\n"
     ]
    },
    {
     "name": "stderr",
     "output_type": "stream",
     "text": [
      "  0%|          | 79/36000 [00:00<06:46, 88.43it/s]"
     ]
    },
    {
     "name": "stdout",
     "output_type": "stream",
     "text": [
      "(55, 27)\n",
      "(55, 27)\n",
      "(55, 27)\n",
      "(55, 27)\n",
      "(55, 27)\n",
      "(55, 27)\n",
      "(55, 27)\n",
      "(55, 27)\n",
      "(55, 27)\n",
      "(55, 27)\n",
      "(55, 27)\n",
      "(55, 27)\n",
      "(55, 27)\n",
      "(55, 27)\n",
      "(55, 27)\n",
      "(55, 27)\n",
      "(55, 27)\n",
      "(55, 27)\n",
      "(55, 27)\n",
      "(55, 27)\n"
     ]
    },
    {
     "name": "stderr",
     "output_type": "stream",
     "text": [
      "  0%|          | 99/36000 [00:01<06:35, 90.76it/s]"
     ]
    },
    {
     "name": "stdout",
     "output_type": "stream",
     "text": [
      "(55, 27)\n",
      "(55, 27)\n",
      "(55, 27)\n",
      "(55, 27)\n",
      "(55, 27)\n",
      "(55, 27)\n",
      "(55, 27)\n",
      "(55, 27)\n",
      "(55, 27)\n",
      "(55, 27)\n",
      "(55, 27)\n",
      "(55, 27)\n",
      "(55, 27)\n",
      "(55, 27)\n",
      "(55, 27)\n",
      "(55, 27)\n",
      "(55, 27)\n",
      "(55, 27)\n",
      "(55, 27)\n"
     ]
    },
    {
     "name": "stderr",
     "output_type": "stream",
     "text": [
      "  0%|          | 119/36000 [00:01<06:37, 90.24it/s]"
     ]
    },
    {
     "name": "stdout",
     "output_type": "stream",
     "text": [
      "(55, 27)\n",
      "(55, 27)\n",
      "(55, 27)\n",
      "(55, 27)\n",
      "(55, 27)\n",
      "(55, 27)\n",
      "(55, 27)\n",
      "(55, 27)\n",
      "(55, 27)\n",
      "(55, 27)\n",
      "(55, 27)\n",
      "(55, 27)\n",
      "(55, 27)\n",
      "(55, 27)\n",
      "(55, 27)\n",
      "(55, 27)\n",
      "(55, 27)\n",
      "(55, 27)\n"
     ]
    },
    {
     "name": "stderr",
     "output_type": "stream",
     "text": [
      "  0%|          | 138/36000 [00:01<07:55, 75.44it/s]"
     ]
    },
    {
     "name": "stdout",
     "output_type": "stream",
     "text": [
      "(55, 27)\n",
      "(55, 27)\n",
      "(55, 27)\n",
      "(55, 27)\n",
      "(55, 27)\n",
      "(55, 27)\n",
      "(55, 27)\n",
      "(55, 27)\n",
      "(55, 27)\n",
      "(55, 27)\n",
      "(55, 27)\n",
      "(55, 27)\n"
     ]
    },
    {
     "name": "stderr",
     "output_type": "stream",
     "text": [
      "  0%|          | 146/36000 [00:01<08:54, 67.06it/s]"
     ]
    },
    {
     "name": "stdout",
     "output_type": "stream",
     "text": [
      "(55, 27)\n",
      "(55, 27)\n",
      "(55, 27)\n",
      "(55, 27)\n",
      "(55, 27)\n",
      "(55, 27)\n",
      "(55, 27)\n",
      "(55, 27)\n",
      "(55, 27)\n",
      "(55, 27)\n",
      "(55, 27)\n"
     ]
    },
    {
     "name": "stderr",
     "output_type": "stream",
     "text": [
      "  0%|          | 154/36000 [00:01<09:40, 61.73it/s]"
     ]
    },
    {
     "name": "stdout",
     "output_type": "stream",
     "text": [
      "(55, 27)\n",
      "(55, 27)\n",
      "(55, 27)\n",
      "(55, 27)\n",
      "(55, 27)\n",
      "(55, 27)\n",
      "(55, 27)\n",
      "(55, 27)\n",
      "(55, 27)\n",
      "(55, 27)\n",
      "(55, 27)\n",
      "(55, 27)\n"
     ]
    },
    {
     "name": "stderr",
     "output_type": "stream",
     "text": [
      "  0%|          | 175/36000 [00:02<09:12, 64.81it/s]"
     ]
    },
    {
     "name": "stdout",
     "output_type": "stream",
     "text": [
      "(55, 27)\n",
      "(55, 27)\n",
      "(55, 27)\n",
      "(55, 27)\n",
      "(55, 27)\n",
      "(55, 27)\n",
      "(55, 27)\n",
      "(55, 27)\n",
      "(55, 27)\n",
      "(55, 27)\n",
      "(55, 27)\n",
      "(55, 27)\n",
      "(55, 27)\n",
      "(55, 27)\n"
     ]
    },
    {
     "name": "stderr",
     "output_type": "stream",
     "text": [
      "  1%|          | 189/36000 [00:02<08:54, 67.00it/s]"
     ]
    },
    {
     "name": "stdout",
     "output_type": "stream",
     "text": [
      "(55, 27)\n",
      "(55, 27)\n",
      "(55, 27)\n",
      "(55, 27)\n",
      "(55, 27)\n",
      "(55, 27)\n",
      "(55, 27)\n",
      "(55, 27)\n",
      "(55, 27)\n",
      "(55, 27)\n",
      "(55, 27)\n",
      "(55, 27)\n",
      "(55, 27)\n",
      "(55, 27)\n"
     ]
    },
    {
     "name": "stderr",
     "output_type": "stream",
     "text": [
      "  1%|          | 203/36000 [00:02<08:47, 67.92it/s]"
     ]
    },
    {
     "name": "stdout",
     "output_type": "stream",
     "text": [
      "(55, 27)\n",
      "(55, 27)\n",
      "(55, 27)\n",
      "(55, 27)\n",
      "(55, 27)\n",
      "(55, 27)\n",
      "(55, 27)\n",
      "(55, 27)\n",
      "(55, 27)\n",
      "(55, 27)\n",
      "(55, 27)\n",
      "(55, 27)\n",
      "(55, 27)\n",
      "(55, 27)\n"
     ]
    },
    {
     "name": "stderr",
     "output_type": "stream",
     "text": [
      "  1%|          | 217/36000 [00:02<08:44, 68.27it/s]"
     ]
    },
    {
     "name": "stdout",
     "output_type": "stream",
     "text": [
      "(55, 27)\n",
      "(55, 27)\n",
      "(55, 27)\n",
      "(55, 27)\n",
      "(55, 27)\n",
      "(55, 27)\n",
      "(55, 27)\n",
      "(55, 27)\n",
      "(55, 27)\n",
      "(55, 27)\n",
      "(55, 27)\n",
      "(55, 27)\n",
      "(55, 27)\n",
      "(55, 27)\n",
      "(55, 27)\n"
     ]
    },
    {
     "name": "stderr",
     "output_type": "stream",
     "text": [
      "  1%|          | 231/36000 [00:03<08:46, 67.99it/s]"
     ]
    },
    {
     "name": "stdout",
     "output_type": "stream",
     "text": [
      "(55, 27)\n",
      "(55, 27)\n",
      "(55, 27)\n",
      "(55, 27)\n",
      "(55, 27)\n",
      "(55, 27)\n",
      "(55, 27)\n",
      "(55, 27)\n",
      "(55, 27)\n",
      "(55, 27)\n",
      "(55, 27)\n",
      "(55, 27)\n",
      "(55, 27)\n",
      "(55, 27)\n"
     ]
    },
    {
     "name": "stderr",
     "output_type": "stream",
     "text": [
      "  1%|          | 245/36000 [00:03<08:41, 68.55it/s]"
     ]
    },
    {
     "name": "stdout",
     "output_type": "stream",
     "text": [
      "(55, 27)\n",
      "(55, 27)\n",
      "(55, 27)\n",
      "(55, 27)\n",
      "(55, 27)\n",
      "(55, 27)\n",
      "(55, 27)\n",
      "(55, 27)\n",
      "(55, 27)\n",
      "(55, 27)\n",
      "(55, 27)\n",
      "(55, 27)\n",
      "(55, 27)\n",
      "(55, 27)\n"
     ]
    },
    {
     "name": "stderr",
     "output_type": "stream",
     "text": [
      "  1%|          | 259/36000 [00:03<08:38, 68.96it/s]"
     ]
    },
    {
     "name": "stdout",
     "output_type": "stream",
     "text": [
      "(55, 27)\n",
      "(55, 27)\n",
      "(55, 27)\n",
      "(55, 27)\n",
      "(55, 27)\n",
      "(55, 27)\n",
      "(55, 27)\n",
      "(55, 27)\n",
      "(55, 27)\n",
      "(55, 27)\n",
      "(55, 27)\n",
      "(55, 27)\n",
      "(55, 27)\n",
      "(55, 27)\n",
      "(55, 27)\n"
     ]
    },
    {
     "name": "stderr",
     "output_type": "stream",
     "text": [
      "  1%|          | 273/36000 [00:03<08:36, 69.21it/s]"
     ]
    },
    {
     "name": "stdout",
     "output_type": "stream",
     "text": [
      "(55, 27)\n",
      "(55, 27)\n",
      "(55, 27)\n",
      "(55, 27)\n",
      "(55, 27)\n",
      "(55, 27)\n",
      "(55, 27)\n",
      "(55, 27)\n",
      "(55, 27)\n",
      "(55, 27)\n",
      "(55, 27)\n",
      "(55, 27)\n",
      "(55, 27)\n",
      "(55, 27)\n",
      "(55, 27)\n"
     ]
    },
    {
     "name": "stderr",
     "output_type": "stream",
     "text": [
      "  1%|          | 288/36000 [00:03<08:32, 69.65it/s]"
     ]
    },
    {
     "name": "stdout",
     "output_type": "stream",
     "text": [
      "(55, 27)\n",
      "(55, 27)\n",
      "(55, 27)\n",
      "(55, 27)\n",
      "(55, 27)\n",
      "(55, 27)\n",
      "(55, 27)\n",
      "(55, 27)\n",
      "(55, 27)\n",
      "(55, 27)\n",
      "(55, 27)\n",
      "(55, 27)\n",
      "(55, 27)\n",
      "(55, 27)\n",
      "(55, 27)\n"
     ]
    },
    {
     "name": "stderr",
     "output_type": "stream",
     "text": [
      "  1%|          | 302/36000 [00:04<08:35, 69.25it/s]"
     ]
    },
    {
     "name": "stdout",
     "output_type": "stream",
     "text": [
      "(55, 27)\n",
      "(55, 27)\n",
      "(55, 27)\n",
      "(55, 27)\n",
      "(55, 27)\n",
      "(55, 27)\n",
      "(55, 27)\n",
      "(55, 27)\n",
      "(55, 27)\n",
      "(55, 27)\n",
      "(55, 27)\n",
      "(55, 27)\n",
      "(55, 27)\n",
      "(55, 27)\n"
     ]
    },
    {
     "name": "stderr",
     "output_type": "stream",
     "text": [
      "  1%|          | 316/36000 [00:04<08:36, 69.12it/s]"
     ]
    },
    {
     "name": "stdout",
     "output_type": "stream",
     "text": [
      "(55, 27)\n",
      "(55, 27)\n",
      "(55, 27)\n",
      "(55, 27)\n",
      "(55, 27)\n",
      "(55, 27)\n",
      "(55, 27)\n",
      "(55, 27)\n",
      "(55, 27)\n",
      "(55, 27)\n",
      "(55, 27)\n",
      "(55, 27)\n",
      "(55, 27)\n",
      "(55, 27)\n"
     ]
    },
    {
     "name": "stderr",
     "output_type": "stream",
     "text": [
      "  1%|          | 330/36000 [00:04<08:43, 68.18it/s]"
     ]
    },
    {
     "name": "stdout",
     "output_type": "stream",
     "text": [
      "(55, 27)\n",
      "(55, 27)\n",
      "(55, 27)\n",
      "(55, 27)\n",
      "(55, 27)\n",
      "(55, 27)\n",
      "(55, 27)\n",
      "(55, 27)\n",
      "(55, 27)\n",
      "(55, 27)\n",
      "(55, 27)\n",
      "(55, 27)\n",
      "(55, 27)\n",
      "(55, 27)\n"
     ]
    },
    {
     "name": "stderr",
     "output_type": "stream",
     "text": [
      "  1%|          | 344/36000 [00:04<08:40, 68.51it/s]"
     ]
    },
    {
     "name": "stdout",
     "output_type": "stream",
     "text": [
      "(55, 27)\n",
      "(55, 27)\n",
      "(55, 27)\n",
      "(55, 27)\n",
      "(55, 27)\n",
      "(55, 27)\n",
      "(55, 27)\n",
      "(55, 27)\n",
      "(55, 27)\n",
      "(55, 27)\n",
      "(55, 27)\n",
      "(55, 27)\n",
      "(55, 27)\n",
      "(55, 27)\n",
      "(55, 27)\n"
     ]
    },
    {
     "name": "stderr",
     "output_type": "stream",
     "text": [
      "  1%|          | 359/36000 [00:04<08:33, 69.34it/s]"
     ]
    },
    {
     "name": "stdout",
     "output_type": "stream",
     "text": [
      "(55, 27)\n",
      "(55, 27)\n",
      "(55, 27)\n",
      "(55, 27)\n",
      "(55, 27)\n",
      "(55, 27)\n",
      "(55, 27)\n",
      "(55, 27)\n",
      "(55, 27)\n",
      "(55, 27)\n",
      "(55, 27)\n",
      "(55, 27)\n",
      "(55, 27)\n",
      "(55, 27)\n",
      "(55, 27)\n"
     ]
    },
    {
     "name": "stderr",
     "output_type": "stream",
     "text": [
      "  1%|          | 374/36000 [00:05<08:32, 69.51it/s]"
     ]
    },
    {
     "name": "stdout",
     "output_type": "stream",
     "text": [
      "(55, 27)\n",
      "(55, 27)\n",
      "(55, 27)\n",
      "(55, 27)\n",
      "(55, 27)\n",
      "(55, 27)\n",
      "(55, 27)\n",
      "(55, 27)\n",
      "(55, 27)\n",
      "(55, 27)\n",
      "(55, 27)\n",
      "(55, 27)\n",
      "(55, 27)\n",
      "(55, 27)\n",
      "(55, 27)\n"
     ]
    },
    {
     "name": "stderr",
     "output_type": "stream",
     "text": [
      "  1%|          | 388/36000 [00:05<08:32, 69.53it/s]"
     ]
    },
    {
     "name": "stdout",
     "output_type": "stream",
     "text": [
      "(55, 27)\n",
      "(55, 27)\n",
      "(55, 27)\n",
      "(55, 27)\n",
      "(55, 27)\n",
      "(55, 27)\n",
      "(55, 27)\n",
      "(55, 27)\n",
      "(55, 27)\n",
      "(55, 27)\n",
      "(55, 27)\n",
      "(55, 27)\n",
      "(55, 27)\n",
      "(55, 27)\n"
     ]
    },
    {
     "name": "stderr",
     "output_type": "stream",
     "text": [
      "  1%|          | 402/36000 [00:05<08:31, 69.55it/s]"
     ]
    },
    {
     "name": "stdout",
     "output_type": "stream",
     "text": [
      "(55, 27)\n",
      "(55, 27)\n",
      "(55, 27)\n",
      "(55, 27)\n",
      "(55, 27)\n",
      "(55, 27)\n",
      "(55, 27)\n",
      "(55, 27)\n",
      "(55, 27)\n",
      "(55, 27)\n",
      "(55, 27)\n",
      "(55, 27)\n",
      "(55, 27)\n",
      "(55, 27)\n",
      "(55, 27)\n"
     ]
    },
    {
     "name": "stderr",
     "output_type": "stream",
     "text": [
      "  1%|          | 417/36000 [00:05<08:30, 69.73it/s]"
     ]
    },
    {
     "name": "stdout",
     "output_type": "stream",
     "text": [
      "(55, 27)\n",
      "(55, 27)\n",
      "(55, 27)\n",
      "(55, 27)\n",
      "(55, 27)\n",
      "(55, 27)\n",
      "(55, 27)\n",
      "(55, 27)\n",
      "(55, 27)\n",
      "(55, 27)\n",
      "(55, 27)\n",
      "(55, 27)\n",
      "(55, 27)\n",
      "(55, 27)\n",
      "(55, 27)\n"
     ]
    },
    {
     "name": "stderr",
     "output_type": "stream",
     "text": [
      "  1%|          | 432/36000 [00:06<08:31, 69.59it/s]"
     ]
    },
    {
     "name": "stdout",
     "output_type": "stream",
     "text": [
      "(55, 27)\n",
      "(55, 27)\n",
      "(55, 27)\n",
      "(55, 27)\n",
      "(55, 27)\n",
      "(55, 27)\n",
      "(55, 27)\n",
      "(55, 27)\n",
      "(55, 27)\n",
      "(55, 27)\n",
      "(55, 27)\n",
      "(55, 27)\n",
      "(55, 27)\n",
      "(55, 27)\n",
      "(55, 27)\n"
     ]
    },
    {
     "name": "stderr",
     "output_type": "stream",
     "text": [
      "  1%|          | 446/36000 [00:06<08:33, 69.17it/s]"
     ]
    },
    {
     "name": "stdout",
     "output_type": "stream",
     "text": [
      "(55, 27)\n",
      "(55, 27)\n",
      "(55, 27)\n",
      "(55, 27)\n",
      "(55, 27)\n",
      "(55, 27)\n",
      "(55, 27)\n",
      "(55, 27)\n",
      "(55, 27)\n",
      "(55, 27)\n",
      "(55, 27)\n",
      "(55, 27)\n",
      "(55, 27)\n",
      "(55, 27)\n"
     ]
    },
    {
     "name": "stderr",
     "output_type": "stream",
     "text": [
      "  1%|▏         | 460/36000 [00:06<08:34, 69.10it/s]"
     ]
    },
    {
     "name": "stdout",
     "output_type": "stream",
     "text": [
      "(55, 27)\n",
      "(55, 27)\n",
      "(55, 27)\n",
      "(55, 27)\n",
      "(55, 27)\n",
      "(55, 27)\n",
      "(55, 27)\n",
      "(55, 27)\n",
      "(55, 27)\n",
      "(55, 27)\n",
      "(55, 27)\n",
      "(55, 27)\n",
      "(55, 27)\n",
      "(55, 27)\n",
      "(55, 27)\n"
     ]
    },
    {
     "name": "stderr",
     "output_type": "stream",
     "text": [
      "  1%|▏         | 475/36000 [00:06<08:31, 69.44it/s]"
     ]
    },
    {
     "name": "stdout",
     "output_type": "stream",
     "text": [
      "(55, 27)\n",
      "(55, 27)\n",
      "(55, 27)\n",
      "(55, 27)\n",
      "(55, 27)\n",
      "(55, 27)\n",
      "(55, 27)\n",
      "(55, 27)\n",
      "(55, 27)\n",
      "(55, 27)\n",
      "(55, 27)\n",
      "(55, 27)\n",
      "(55, 27)\n",
      "(55, 27)\n",
      "(55, 27)\n"
     ]
    },
    {
     "name": "stderr",
     "output_type": "stream",
     "text": [
      "  1%|▏         | 489/36000 [00:06<08:33, 69.18it/s]"
     ]
    },
    {
     "name": "stdout",
     "output_type": "stream",
     "text": [
      "(55, 27)\n",
      "(55, 27)\n",
      "(55, 27)\n",
      "(55, 27)\n",
      "(55, 27)\n",
      "(55, 27)\n",
      "(55, 27)\n",
      "(55, 27)\n",
      "(55, 27)\n",
      "(55, 27)\n",
      "(55, 27)\n",
      "(55, 27)\n",
      "(55, 27)\n",
      "(55, 27)\n"
     ]
    },
    {
     "name": "stderr",
     "output_type": "stream",
     "text": [
      "  1%|▏         | 504/36000 [00:07<08:31, 69.39it/s]"
     ]
    },
    {
     "name": "stdout",
     "output_type": "stream",
     "text": [
      "(55, 27)\n",
      "(55, 27)\n",
      "(55, 27)\n",
      "(55, 27)\n",
      "(55, 27)\n",
      "(55, 27)\n",
      "(55, 27)\n",
      "(55, 27)\n",
      "(55, 27)\n",
      "(55, 27)\n",
      "(55, 27)\n",
      "(55, 27)\n",
      "(55, 27)\n",
      "(55, 27)\n",
      "(55, 27)\n"
     ]
    },
    {
     "name": "stderr",
     "output_type": "stream",
     "text": [
      "  1%|▏         | 519/36000 [00:07<08:28, 69.81it/s]"
     ]
    },
    {
     "name": "stdout",
     "output_type": "stream",
     "text": [
      "(55, 27)\n",
      "(55, 27)\n",
      "(55, 27)\n",
      "(55, 27)\n",
      "(55, 27)\n",
      "(55, 27)\n",
      "(55, 27)\n",
      "(55, 27)\n",
      "(55, 27)\n",
      "(55, 27)\n",
      "(55, 27)\n",
      "(55, 27)\n",
      "(55, 27)\n",
      "(55, 27)\n",
      "(55, 27)\n"
     ]
    },
    {
     "name": "stderr",
     "output_type": "stream",
     "text": [
      "  1%|▏         | 534/36000 [00:07<08:27, 69.86it/s]"
     ]
    },
    {
     "name": "stdout",
     "output_type": "stream",
     "text": [
      "(55, 27)\n",
      "(55, 27)\n",
      "(55, 27)\n",
      "(55, 27)\n",
      "(55, 27)\n",
      "(55, 27)\n",
      "(55, 27)\n",
      "(55, 27)\n",
      "(55, 27)\n",
      "(55, 27)\n",
      "(55, 27)\n",
      "(55, 27)\n",
      "(55, 27)\n",
      "(55, 27)\n",
      "(55, 27)\n"
     ]
    },
    {
     "name": "stderr",
     "output_type": "stream",
     "text": [
      "  2%|▏         | 550/36000 [00:07<08:25, 70.07it/s]"
     ]
    },
    {
     "name": "stdout",
     "output_type": "stream",
     "text": [
      "(55, 27)\n",
      "(55, 27)\n",
      "(55, 27)\n",
      "(55, 27)\n",
      "(55, 27)\n",
      "(55, 27)\n",
      "(55, 27)\n",
      "(55, 27)\n",
      "(55, 27)\n",
      "(55, 27)\n",
      "(55, 27)\n",
      "(55, 27)\n",
      "(55, 27)\n",
      "(55, 27)\n",
      "(55, 27)\n"
     ]
    },
    {
     "name": "stderr",
     "output_type": "stream",
     "text": [
      "  2%|▏         | 566/36000 [00:07<08:29, 69.51it/s]"
     ]
    },
    {
     "name": "stdout",
     "output_type": "stream",
     "text": [
      "(55, 27)\n",
      "(55, 27)\n",
      "(55, 27)\n",
      "(55, 27)\n",
      "(55, 27)\n",
      "(55, 27)\n",
      "(55, 27)\n",
      "(55, 27)\n",
      "(55, 27)\n",
      "(55, 27)\n",
      "(55, 27)\n",
      "(55, 27)\n",
      "(55, 27)\n",
      "(55, 27)\n"
     ]
    },
    {
     "name": "stderr",
     "output_type": "stream",
     "text": [
      "  2%|▏         | 581/36000 [00:08<08:27, 69.81it/s]"
     ]
    },
    {
     "name": "stdout",
     "output_type": "stream",
     "text": [
      "(55, 27)\n",
      "(55, 27)\n",
      "(55, 27)\n",
      "(55, 27)\n",
      "(55, 27)\n",
      "(55, 27)\n",
      "(55, 27)\n",
      "(55, 27)\n",
      "(55, 27)\n",
      "(55, 27)\n",
      "(55, 27)\n",
      "(55, 27)\n",
      "(55, 27)\n",
      "(55, 27)\n",
      "(55, 27)\n"
     ]
    },
    {
     "name": "stderr",
     "output_type": "stream",
     "text": [
      "  2%|▏         | 597/36000 [00:08<08:24, 70.22it/s]"
     ]
    },
    {
     "name": "stdout",
     "output_type": "stream",
     "text": [
      "(55, 27)\n",
      "(55, 27)\n",
      "(55, 27)\n",
      "(55, 27)\n",
      "(55, 27)\n",
      "(55, 27)\n",
      "(55, 27)\n",
      "(55, 27)\n",
      "(55, 27)\n",
      "(55, 27)\n",
      "(55, 27)\n",
      "(55, 27)\n",
      "(55, 27)\n",
      "(55, 27)\n",
      "(55, 27)\n"
     ]
    },
    {
     "name": "stderr",
     "output_type": "stream",
     "text": [
      "  2%|▏         | 612/36000 [00:08<08:32, 69.11it/s]"
     ]
    },
    {
     "name": "stdout",
     "output_type": "stream",
     "text": [
      "(55, 27)\n",
      "(55, 27)\n",
      "(55, 27)\n",
      "(55, 27)\n",
      "(55, 27)\n",
      "(55, 27)\n",
      "(55, 27)\n",
      "(55, 27)\n",
      "(55, 27)\n",
      "(55, 27)\n",
      "(55, 27)\n",
      "(55, 27)\n",
      "(55, 27)\n",
      "(55, 27)\n"
     ]
    },
    {
     "name": "stderr",
     "output_type": "stream",
     "text": [
      "  2%|▏         | 626/36000 [00:08<08:30, 69.27it/s]"
     ]
    },
    {
     "name": "stdout",
     "output_type": "stream",
     "text": [
      "(55, 27)\n",
      "(55, 27)\n",
      "(55, 27)\n",
      "(55, 27)\n",
      "(55, 27)\n",
      "(55, 27)\n",
      "(55, 27)\n",
      "(55, 27)\n",
      "(55, 27)\n",
      "(55, 27)\n",
      "(55, 27)\n",
      "(55, 27)\n",
      "(55, 27)\n",
      "(55, 27)\n",
      "(55, 27)\n"
     ]
    },
    {
     "name": "stderr",
     "output_type": "stream",
     "text": [
      "  2%|▏         | 641/36000 [00:09<08:26, 69.82it/s]"
     ]
    },
    {
     "name": "stdout",
     "output_type": "stream",
     "text": [
      "(55, 27)\n",
      "(55, 27)\n",
      "(55, 27)\n",
      "(55, 27)\n",
      "(55, 27)\n",
      "(55, 27)\n",
      "(55, 27)\n",
      "(55, 27)\n",
      "(55, 27)\n",
      "(55, 27)\n",
      "(55, 27)\n",
      "(55, 27)\n",
      "(55, 27)\n",
      "(55, 27)\n",
      "(55, 27)\n"
     ]
    },
    {
     "name": "stderr",
     "output_type": "stream",
     "text": [
      "  2%|▏         | 656/36000 [00:09<08:26, 69.82it/s]"
     ]
    },
    {
     "name": "stdout",
     "output_type": "stream",
     "text": [
      "(55, 27)\n",
      "(55, 27)\n",
      "(55, 27)\n",
      "(55, 27)\n",
      "(55, 27)\n",
      "(55, 27)\n",
      "(55, 27)\n",
      "(55, 27)\n",
      "(55, 27)\n",
      "(55, 27)\n",
      "(55, 27)\n",
      "(55, 27)\n",
      "(55, 27)\n",
      "(55, 27)\n",
      "(55, 27)\n"
     ]
    },
    {
     "name": "stderr",
     "output_type": "stream",
     "text": [
      "  2%|▏         | 671/36000 [00:09<08:27, 69.65it/s]"
     ]
    },
    {
     "name": "stdout",
     "output_type": "stream",
     "text": [
      "(55, 27)\n",
      "(55, 27)\n",
      "(55, 27)\n",
      "(55, 27)\n",
      "(55, 27)\n",
      "(55, 27)\n",
      "(55, 27)\n",
      "(55, 27)\n",
      "(55, 27)\n",
      "(55, 27)\n",
      "(55, 27)\n",
      "(55, 27)\n",
      "(55, 27)\n",
      "(55, 27)\n",
      "(55, 27)\n"
     ]
    },
    {
     "name": "stderr",
     "output_type": "stream",
     "text": [
      "  2%|▏         | 686/36000 [00:09<08:27, 69.64it/s]"
     ]
    },
    {
     "name": "stdout",
     "output_type": "stream",
     "text": [
      "(55, 27)\n",
      "(55, 27)\n",
      "(55, 27)\n",
      "(55, 27)\n",
      "(55, 27)\n",
      "(55, 27)\n",
      "(55, 27)\n",
      "(55, 27)\n",
      "(55, 27)\n",
      "(55, 27)\n",
      "(55, 27)\n",
      "(55, 27)\n",
      "(55, 27)\n",
      "(55, 27)\n",
      "(55, 27)\n"
     ]
    },
    {
     "name": "stderr",
     "output_type": "stream",
     "text": [
      "  2%|▏         | 702/36000 [00:09<08:24, 70.00it/s]"
     ]
    },
    {
     "name": "stdout",
     "output_type": "stream",
     "text": [
      "(55, 27)\n",
      "(55, 27)\n",
      "(55, 27)\n",
      "(55, 27)\n",
      "(55, 27)\n",
      "(55, 27)\n",
      "(55, 27)\n",
      "(55, 27)\n",
      "(55, 27)\n",
      "(55, 27)\n",
      "(55, 27)\n",
      "(55, 27)\n",
      "(55, 27)\n",
      "(55, 27)\n",
      "(55, 27)\n"
     ]
    },
    {
     "name": "stderr",
     "output_type": "stream",
     "text": [
      "  2%|▏         | 716/36000 [00:10<08:27, 69.57it/s]"
     ]
    },
    {
     "name": "stdout",
     "output_type": "stream",
     "text": [
      "(55, 27)\n",
      "(55, 27)\n",
      "(55, 27)\n",
      "(55, 27)\n",
      "(55, 27)\n",
      "(55, 27)\n",
      "(55, 27)\n",
      "(55, 27)\n",
      "(55, 27)\n",
      "(55, 27)\n",
      "(55, 27)\n",
      "(55, 27)\n",
      "(55, 27)\n",
      "(55, 27)\n",
      "(55, 27)\n"
     ]
    },
    {
     "name": "stderr",
     "output_type": "stream",
     "text": [
      "  2%|▏         | 730/36000 [00:10<08:29, 69.20it/s]"
     ]
    },
    {
     "name": "stdout",
     "output_type": "stream",
     "text": [
      "(55, 27)\n",
      "(55, 27)\n",
      "(55, 27)\n",
      "(55, 27)\n",
      "(55, 27)\n",
      "(55, 27)\n",
      "(55, 27)\n",
      "(55, 27)\n",
      "(55, 27)\n",
      "(55, 27)\n",
      "(55, 27)\n",
      "(55, 27)\n",
      "(55, 27)\n",
      "(55, 27)\n"
     ]
    },
    {
     "name": "stderr",
     "output_type": "stream",
     "text": [
      "  2%|▏         | 745/36000 [00:10<08:27, 69.52it/s]"
     ]
    },
    {
     "name": "stdout",
     "output_type": "stream",
     "text": [
      "(55, 27)\n",
      "(55, 27)\n",
      "(55, 27)\n",
      "(55, 27)\n",
      "(55, 27)\n",
      "(55, 27)\n",
      "(55, 27)\n",
      "(55, 27)\n",
      "(55, 27)\n",
      "(55, 27)\n",
      "(55, 27)\n",
      "(55, 27)\n",
      "(55, 27)\n",
      "(55, 27)\n"
     ]
    },
    {
     "name": "stderr",
     "output_type": "stream",
     "text": [
      "  2%|▏         | 759/36000 [00:10<08:28, 69.31it/s]"
     ]
    },
    {
     "name": "stdout",
     "output_type": "stream",
     "text": [
      "(55, 27)\n",
      "(55, 27)\n",
      "(55, 27)\n",
      "(55, 27)\n",
      "(55, 27)\n",
      "(55, 27)\n",
      "(55, 27)\n",
      "(55, 27)\n",
      "(55, 27)\n",
      "(55, 27)\n",
      "(55, 27)\n",
      "(55, 27)\n",
      "(55, 27)\n",
      "(55, 27)\n"
     ]
    },
    {
     "name": "stderr",
     "output_type": "stream",
     "text": [
      "  2%|▏         | 774/36000 [00:10<08:25, 69.73it/s]"
     ]
    },
    {
     "name": "stdout",
     "output_type": "stream",
     "text": [
      "(55, 27)\n",
      "(55, 27)\n",
      "(55, 27)\n",
      "(55, 27)\n",
      "(55, 27)\n",
      "(55, 27)\n",
      "(55, 27)\n",
      "(55, 27)\n",
      "(55, 27)\n",
      "(55, 27)\n",
      "(55, 27)\n",
      "(55, 27)\n",
      "(55, 27)\n",
      "(55, 27)\n",
      "(55, 27)\n"
     ]
    },
    {
     "name": "stderr",
     "output_type": "stream",
     "text": [
      "  2%|▏         | 788/36000 [00:11<08:26, 69.49it/s]"
     ]
    },
    {
     "name": "stdout",
     "output_type": "stream",
     "text": [
      "(55, 27)\n",
      "(55, 27)\n",
      "(55, 27)\n",
      "(55, 27)\n",
      "(55, 27)\n",
      "(55, 27)\n",
      "(55, 27)\n",
      "(55, 27)\n",
      "(55, 27)\n",
      "(55, 27)\n",
      "(55, 27)\n",
      "(55, 27)\n",
      "(55, 27)\n",
      "(55, 27)\n"
     ]
    },
    {
     "name": "stderr",
     "output_type": "stream",
     "text": [
      "  2%|▏         | 802/36000 [00:11<08:27, 69.38it/s]"
     ]
    },
    {
     "name": "stdout",
     "output_type": "stream",
     "text": [
      "(55, 27)\n",
      "(55, 27)\n",
      "(55, 27)\n",
      "(55, 27)\n",
      "(55, 27)\n",
      "(55, 27)\n",
      "(55, 27)\n",
      "(55, 27)\n",
      "(55, 27)\n",
      "(55, 27)\n",
      "(55, 27)\n",
      "(55, 27)\n",
      "(55, 27)\n",
      "(55, 27)\n"
     ]
    },
    {
     "name": "stderr",
     "output_type": "stream",
     "text": [
      "  2%|▏         | 817/36000 [00:11<08:24, 69.76it/s]"
     ]
    },
    {
     "name": "stdout",
     "output_type": "stream",
     "text": [
      "(55, 27)\n",
      "(55, 27)\n",
      "(55, 27)\n",
      "(55, 27)\n",
      "(55, 27)\n",
      "(55, 27)\n",
      "(55, 27)\n",
      "(55, 27)\n",
      "(55, 27)\n",
      "(55, 27)\n",
      "(55, 27)\n",
      "(55, 27)\n",
      "(55, 27)\n",
      "(55, 27)\n",
      "(55, 27)\n"
     ]
    },
    {
     "name": "stderr",
     "output_type": "stream",
     "text": [
      "  2%|▏         | 831/36000 [00:11<08:25, 69.61it/s]"
     ]
    },
    {
     "name": "stdout",
     "output_type": "stream",
     "text": [
      "(55, 27)\n",
      "(55, 27)\n",
      "(55, 27)\n",
      "(55, 27)\n",
      "(55, 27)\n",
      "(55, 27)\n",
      "(55, 27)\n",
      "(55, 27)\n",
      "(55, 27)\n",
      "(55, 27)\n",
      "(55, 27)\n",
      "(55, 27)\n",
      "(55, 27)\n",
      "(55, 27)\n"
     ]
    },
    {
     "name": "stderr",
     "output_type": "stream",
     "text": [
      "  2%|▏         | 846/36000 [00:11<08:25, 69.59it/s]"
     ]
    },
    {
     "name": "stdout",
     "output_type": "stream",
     "text": [
      "(55, 27)\n",
      "(55, 27)\n",
      "(55, 27)\n",
      "(55, 27)\n",
      "(55, 27)\n",
      "(55, 27)\n",
      "(55, 27)\n",
      "(55, 27)\n",
      "(55, 27)\n",
      "(55, 27)\n",
      "(55, 27)\n",
      "(55, 27)\n",
      "(55, 27)\n",
      "(55, 27)\n"
     ]
    },
    {
     "name": "stderr",
     "output_type": "stream",
     "text": [
      "  2%|▏         | 860/36000 [00:12<08:26, 69.33it/s]"
     ]
    },
    {
     "name": "stdout",
     "output_type": "stream",
     "text": [
      "(55, 27)\n",
      "(55, 27)\n",
      "(55, 27)\n",
      "(55, 27)\n",
      "(55, 27)\n",
      "(55, 27)\n",
      "(55, 27)\n",
      "(55, 27)\n",
      "(55, 27)\n",
      "(55, 27)\n",
      "(55, 27)\n",
      "(55, 27)\n",
      "(55, 27)\n",
      "(55, 27)\n"
     ]
    },
    {
     "name": "stderr",
     "output_type": "stream",
     "text": [
      "  2%|▏         | 867/36000 [00:12<08:25, 69.52it/s]"
     ]
    },
    {
     "name": "stdout",
     "output_type": "stream",
     "text": [
      "(55, 27)\n",
      "(55, 27)\n",
      "(55, 27)\n",
      "(55, 27)\n",
      "(55, 27)\n",
      "(55, 27)\n",
      "(55, 27)\n",
      "(55, 27)\n",
      "(55, 27)\n",
      "(55, 27)\n",
      "(55, 27)\n",
      "(55, 27)\n",
      "(55, 27)\n",
      "(55, 27)\n",
      "(55, 27)\n"
     ]
    },
    {
     "name": "stderr",
     "output_type": "stream",
     "text": [
      "  2%|▏         | 883/36000 [00:12<08:24, 69.62it/s]"
     ]
    },
    {
     "name": "stdout",
     "output_type": "stream",
     "text": [
      "(55, 27)\n",
      "(55, 27)\n",
      "(55, 27)\n",
      "(55, 27)\n",
      "(55, 27)\n",
      "(55, 27)\n",
      "(55, 27)\n",
      "(55, 27)\n",
      "(55, 27)\n",
      "(55, 27)\n",
      "(55, 27)\n",
      "(55, 27)\n",
      "(55, 27)\n",
      "(55, 27)\n",
      "(55, 27)\n"
     ]
    },
    {
     "name": "stderr",
     "output_type": "stream",
     "text": [
      "  2%|▏         | 897/36000 [00:12<08:25, 69.39it/s]"
     ]
    },
    {
     "name": "stdout",
     "output_type": "stream",
     "text": [
      "(55, 27)\n",
      "(55, 27)\n",
      "(55, 27)\n",
      "(55, 27)\n",
      "(55, 27)\n",
      "(55, 27)\n",
      "(55, 27)\n",
      "(55, 27)\n",
      "(55, 27)\n",
      "(55, 27)\n",
      "(55, 27)\n",
      "(55, 27)\n",
      "(55, 27)\n",
      "(55, 27)\n",
      "(55, 27)\n"
     ]
    },
    {
     "name": "stderr",
     "output_type": "stream",
     "text": [
      "  3%|▎         | 912/36000 [00:12<08:24, 69.56it/s]"
     ]
    },
    {
     "name": "stdout",
     "output_type": "stream",
     "text": [
      "(55, 27)\n",
      "(55, 27)\n",
      "(55, 27)\n",
      "(55, 27)\n",
      "(55, 27)\n",
      "(55, 27)\n",
      "(55, 27)\n",
      "(55, 27)\n",
      "(55, 27)\n",
      "(55, 27)\n",
      "(55, 27)\n",
      "(55, 27)\n",
      "(55, 27)\n",
      "(55, 27)\n",
      "(55, 27)\n"
     ]
    },
    {
     "name": "stderr",
     "output_type": "stream",
     "text": [
      "  3%|▎         | 928/36000 [00:13<08:22, 69.73it/s]"
     ]
    },
    {
     "name": "stdout",
     "output_type": "stream",
     "text": [
      "(55, 27)\n",
      "(55, 27)\n",
      "(55, 27)\n",
      "(55, 27)\n",
      "(55, 27)\n",
      "(55, 27)\n",
      "(55, 27)\n",
      "(55, 27)\n",
      "(55, 27)\n",
      "(55, 27)\n",
      "(55, 27)\n",
      "(55, 27)\n",
      "(55, 27)\n",
      "(55, 27)\n",
      "(55, 27)\n"
     ]
    },
    {
     "name": "stderr",
     "output_type": "stream",
     "text": [
      "  3%|▎         | 942/36000 [00:13<08:24, 69.51it/s]"
     ]
    },
    {
     "name": "stdout",
     "output_type": "stream",
     "text": [
      "(55, 27)\n",
      "(55, 27)\n",
      "(55, 27)\n",
      "(55, 27)\n",
      "(55, 27)\n",
      "(55, 27)\n",
      "(55, 27)\n",
      "(55, 27)\n",
      "(55, 27)\n",
      "(55, 27)\n",
      "(55, 27)\n",
      "(55, 27)\n",
      "(55, 27)\n",
      "(55, 27)\n",
      "(55, 27)\n"
     ]
    },
    {
     "name": "stderr",
     "output_type": "stream",
     "text": [
      "  3%|▎         | 957/36000 [00:13<08:23, 69.62it/s]"
     ]
    },
    {
     "name": "stdout",
     "output_type": "stream",
     "text": [
      "(55, 27)\n",
      "(55, 27)\n",
      "(55, 27)\n",
      "(55, 27)\n",
      "(55, 27)\n",
      "(55, 27)\n",
      "(55, 27)\n",
      "(55, 27)\n",
      "(55, 27)\n",
      "(55, 27)\n",
      "(55, 27)\n",
      "(55, 27)\n",
      "(55, 27)\n",
      "(55, 27)\n",
      "(55, 27)\n"
     ]
    },
    {
     "name": "stderr",
     "output_type": "stream",
     "text": [
      "  3%|▎         | 972/36000 [00:13<08:26, 69.20it/s]"
     ]
    },
    {
     "name": "stdout",
     "output_type": "stream",
     "text": [
      "(55, 27)\n",
      "(55, 27)\n",
      "(55, 27)\n",
      "(55, 27)\n",
      "(55, 27)\n",
      "(55, 27)\n",
      "(55, 27)\n",
      "(55, 27)\n",
      "(55, 27)\n",
      "(55, 27)\n",
      "(55, 27)\n",
      "(55, 27)\n",
      "(55, 27)\n",
      "(55, 27)\n",
      "(55, 27)\n"
     ]
    },
    {
     "name": "stderr",
     "output_type": "stream",
     "text": [
      "  3%|▎         | 994/36000 [00:14<08:23, 69.49it/s]"
     ]
    },
    {
     "name": "stdout",
     "output_type": "stream",
     "text": [
      "(55, 27)\n",
      "(55, 27)\n",
      "(55, 27)\n",
      "(55, 27)\n",
      "(55, 27)\n",
      "(55, 27)\n",
      "(55, 27)\n",
      "(55, 27)\n",
      "(55, 27)\n",
      "(55, 27)\n",
      "(55, 27)\n",
      "(55, 27)\n",
      "(55, 27)\n",
      "(55, 27)\n"
     ]
    },
    {
     "name": "stderr",
     "output_type": "stream",
     "text": [
      "  3%|▎         | 1002/36000 [00:14<08:22, 69.64it/s]"
     ]
    },
    {
     "name": "stdout",
     "output_type": "stream",
     "text": [
      "(55, 27)\n",
      "(55, 27)\n",
      "(55, 27)\n",
      "(55, 27)\n",
      "(55, 27)\n",
      "(55, 27)\n",
      "(55, 27)\n",
      "(55, 27)\n",
      "(55, 27)\n",
      "(55, 27)\n",
      "(55, 27)\n",
      "(55, 27)\n",
      "(55, 27)\n",
      "(55, 27)\n",
      "(55, 27)\n"
     ]
    },
    {
     "name": "stderr",
     "output_type": "stream",
     "text": [
      "  3%|▎         | 1017/36000 [00:14<08:21, 69.71it/s]"
     ]
    },
    {
     "name": "stdout",
     "output_type": "stream",
     "text": [
      "(55, 27)\n",
      "(55, 27)\n",
      "(55, 27)\n",
      "(55, 27)\n",
      "(55, 27)\n",
      "(55, 27)\n",
      "(55, 27)\n",
      "(55, 27)\n",
      "(55, 27)\n",
      "(55, 27)\n",
      "(55, 27)\n",
      "(55, 27)\n",
      "(55, 27)\n",
      "(55, 27)\n",
      "(55, 27)\n"
     ]
    },
    {
     "name": "stderr",
     "output_type": "stream",
     "text": [
      "  3%|▎         | 1032/36000 [00:14<08:19, 69.94it/s]"
     ]
    },
    {
     "name": "stdout",
     "output_type": "stream",
     "text": [
      "(55, 27)\n",
      "(55, 27)\n",
      "(55, 27)\n",
      "(55, 27)\n",
      "(55, 27)\n",
      "(55, 27)\n",
      "(55, 27)\n",
      "(55, 27)\n",
      "(55, 27)\n",
      "(55, 27)\n",
      "(55, 27)\n",
      "(55, 27)\n",
      "(55, 27)\n",
      "(55, 27)\n",
      "(55, 27)\n"
     ]
    },
    {
     "name": "stderr",
     "output_type": "stream",
     "text": [
      "  3%|▎         | 1046/36000 [00:14<08:21, 69.64it/s]"
     ]
    },
    {
     "name": "stdout",
     "output_type": "stream",
     "text": [
      "(55, 27)\n",
      "(55, 27)\n",
      "(55, 27)\n",
      "(55, 27)\n",
      "(55, 27)\n",
      "(55, 27)\n",
      "(55, 27)\n",
      "(55, 27)\n",
      "(55, 27)\n",
      "(55, 27)\n",
      "(55, 27)\n",
      "(55, 27)\n",
      "(55, 27)\n",
      "(55, 27)\n",
      "(55, 27)\n"
     ]
    },
    {
     "name": "stderr",
     "output_type": "stream",
     "text": [
      "  3%|▎         | 1062/36000 [00:15<08:25, 69.18it/s]"
     ]
    },
    {
     "name": "stdout",
     "output_type": "stream",
     "text": [
      "(55, 27)\n",
      "(55, 27)\n",
      "(55, 27)\n",
      "(55, 27)\n",
      "(55, 27)\n",
      "(55, 27)\n",
      "(55, 27)\n",
      "(55, 27)\n",
      "(55, 27)\n",
      "(55, 27)\n",
      "(55, 27)\n",
      "(55, 27)\n",
      "(55, 27)\n",
      "(55, 27)\n"
     ]
    },
    {
     "name": "stderr",
     "output_type": "stream",
     "text": [
      "  3%|▎         | 1077/36000 [00:15<08:23, 69.41it/s]"
     ]
    },
    {
     "name": "stdout",
     "output_type": "stream",
     "text": [
      "(55, 27)\n",
      "(55, 27)\n",
      "(55, 27)\n",
      "(55, 27)\n",
      "(55, 27)\n",
      "(55, 27)\n",
      "(55, 27)\n",
      "(55, 27)\n",
      "(55, 27)\n",
      "(55, 27)\n",
      "(55, 27)\n",
      "(55, 27)\n",
      "(55, 27)\n",
      "(55, 27)\n",
      "(55, 27)\n"
     ]
    },
    {
     "name": "stderr",
     "output_type": "stream",
     "text": [
      "  3%|▎         | 1091/36000 [00:15<08:23, 69.34it/s]"
     ]
    },
    {
     "name": "stdout",
     "output_type": "stream",
     "text": [
      "(55, 27)\n",
      "(55, 27)\n",
      "(55, 27)\n",
      "(55, 27)\n",
      "(55, 27)\n",
      "(55, 27)\n",
      "(55, 27)\n",
      "(55, 27)\n",
      "(55, 27)\n",
      "(55, 27)\n",
      "(55, 27)\n",
      "(55, 27)\n",
      "(55, 27)\n",
      "(55, 27)\n",
      "(55, 27)\n"
     ]
    },
    {
     "name": "stderr",
     "output_type": "stream",
     "text": [
      "  3%|▎         | 1105/36000 [00:15<08:22, 69.46it/s]"
     ]
    },
    {
     "name": "stdout",
     "output_type": "stream",
     "text": [
      "(55, 27)\n",
      "(55, 27)\n",
      "(55, 27)\n",
      "(55, 27)\n",
      "(55, 27)\n",
      "(55, 27)\n",
      "(55, 27)\n",
      "(55, 27)\n",
      "(55, 27)\n",
      "(55, 27)\n",
      "(55, 27)\n",
      "(55, 27)\n",
      "(55, 27)\n",
      "(55, 27)\n",
      "(55, 27)\n"
     ]
    },
    {
     "name": "stderr",
     "output_type": "stream",
     "text": [
      "  3%|▎         | 1121/36000 [00:15<08:21, 69.58it/s]"
     ]
    },
    {
     "name": "stdout",
     "output_type": "stream",
     "text": [
      "(55, 27)\n",
      "(55, 27)\n",
      "(55, 27)\n",
      "(55, 27)\n",
      "(55, 27)\n",
      "(55, 27)\n",
      "(55, 27)\n",
      "(55, 27)\n",
      "(55, 27)\n",
      "(55, 27)\n",
      "(55, 27)\n",
      "(55, 27)\n",
      "(55, 27)\n",
      "(55, 27)\n",
      "(55, 27)\n"
     ]
    },
    {
     "name": "stderr",
     "output_type": "stream",
     "text": [
      "  3%|▎         | 1136/36000 [00:16<08:19, 69.77it/s]"
     ]
    },
    {
     "name": "stdout",
     "output_type": "stream",
     "text": [
      "(55, 27)\n",
      "(55, 27)\n",
      "(55, 27)\n",
      "(55, 27)\n",
      "(55, 27)\n",
      "(55, 27)\n",
      "(55, 27)\n",
      "(55, 27)\n",
      "(55, 27)\n",
      "(55, 27)\n",
      "(55, 27)\n",
      "(55, 27)\n",
      "(55, 27)\n",
      "(55, 27)\n",
      "(55, 27)\n"
     ]
    },
    {
     "name": "stderr",
     "output_type": "stream",
     "text": [
      "  3%|▎         | 1151/36000 [00:16<08:18, 69.86it/s]"
     ]
    },
    {
     "name": "stdout",
     "output_type": "stream",
     "text": [
      "(55, 27)\n",
      "(55, 27)\n",
      "(55, 27)\n",
      "(55, 27)\n",
      "(55, 27)\n",
      "(55, 27)\n",
      "(55, 27)\n",
      "(55, 27)\n",
      "(55, 27)\n",
      "(55, 27)\n",
      "(55, 27)\n",
      "(55, 27)\n",
      "(55, 27)\n",
      "(55, 27)\n",
      "(55, 27)\n"
     ]
    },
    {
     "name": "stderr",
     "output_type": "stream",
     "text": [
      "  3%|▎         | 1166/36000 [00:16<08:19, 69.73it/s]"
     ]
    },
    {
     "name": "stdout",
     "output_type": "stream",
     "text": [
      "(55, 27)\n",
      "(55, 27)\n",
      "(55, 27)\n",
      "(55, 27)\n",
      "(55, 27)\n",
      "(55, 27)\n",
      "(55, 27)\n",
      "(55, 27)\n",
      "(55, 27)\n",
      "(55, 27)\n",
      "(55, 27)\n",
      "(55, 27)\n",
      "(55, 27)\n",
      "(55, 27)\n",
      "(55, 27)\n"
     ]
    },
    {
     "name": "stderr",
     "output_type": "stream",
     "text": [
      "  3%|▎         | 1187/36000 [00:16<08:21, 69.49it/s]"
     ]
    },
    {
     "name": "stdout",
     "output_type": "stream",
     "text": [
      "(55, 27)\n",
      "(55, 27)\n",
      "(55, 27)\n",
      "(55, 27)\n",
      "(55, 27)\n",
      "(55, 27)\n",
      "(55, 27)\n",
      "(55, 27)\n",
      "(55, 27)\n",
      "(55, 27)\n",
      "(55, 27)\n",
      "(55, 27)\n",
      "(55, 27)\n",
      "(55, 27)\n",
      "(55, 27)\n"
     ]
    },
    {
     "name": "stderr",
     "output_type": "stream",
     "text": [
      "  3%|▎         | 1195/36000 [00:16<08:18, 69.80it/s]"
     ]
    },
    {
     "name": "stdout",
     "output_type": "stream",
     "text": [
      "(55, 27)\n",
      "(55, 27)\n",
      "(55, 27)\n",
      "(55, 27)\n",
      "(55, 27)\n",
      "(55, 27)\n",
      "(55, 27)\n",
      "(55, 27)\n",
      "(55, 27)\n",
      "(55, 27)\n",
      "(55, 27)\n",
      "(55, 27)\n",
      "(55, 27)\n",
      "(55, 27)\n",
      "(55, 27)\n"
     ]
    },
    {
     "name": "stderr",
     "output_type": "stream",
     "text": [
      "  3%|▎         | 1211/36000 [00:17<08:16, 70.00it/s]"
     ]
    },
    {
     "name": "stdout",
     "output_type": "stream",
     "text": [
      "(55, 27)\n",
      "(55, 27)\n",
      "(55, 27)\n",
      "(55, 27)\n",
      "(55, 27)\n",
      "(55, 27)\n",
      "(55, 27)\n",
      "(55, 27)\n",
      "(55, 27)\n",
      "(55, 27)\n",
      "(55, 27)\n",
      "(55, 27)\n",
      "(55, 27)\n",
      "(55, 27)\n",
      "(55, 27)\n"
     ]
    },
    {
     "name": "stderr",
     "output_type": "stream",
     "text": [
      "  3%|▎         | 1226/36000 [00:17<08:15, 70.14it/s]"
     ]
    },
    {
     "name": "stdout",
     "output_type": "stream",
     "text": [
      "(55, 27)\n",
      "(55, 27)\n",
      "(55, 27)\n",
      "(55, 27)\n",
      "(55, 27)\n",
      "(55, 27)\n",
      "(55, 27)\n",
      "(55, 27)\n",
      "(55, 27)\n",
      "(55, 27)\n",
      "(55, 27)\n",
      "(55, 27)\n",
      "(55, 27)\n",
      "(55, 27)\n",
      "(55, 27)\n"
     ]
    },
    {
     "name": "stderr",
     "output_type": "stream",
     "text": [
      "  3%|▎         | 1242/36000 [00:17<08:16, 70.06it/s]"
     ]
    },
    {
     "name": "stdout",
     "output_type": "stream",
     "text": [
      "(55, 27)\n",
      "(55, 27)\n",
      "(55, 27)\n",
      "(55, 27)\n",
      "(55, 27)\n",
      "(55, 27)\n",
      "(55, 27)\n",
      "(55, 27)\n",
      "(55, 27)\n",
      "(55, 27)\n",
      "(55, 27)\n",
      "(55, 27)\n",
      "(55, 27)\n",
      "(55, 27)\n",
      "(55, 27)\n"
     ]
    },
    {
     "name": "stderr",
     "output_type": "stream",
     "text": [
      "  3%|▎         | 1258/36000 [00:17<08:14, 70.23it/s]"
     ]
    },
    {
     "name": "stdout",
     "output_type": "stream",
     "text": [
      "(55, 27)\n",
      "(55, 27)\n",
      "(55, 27)\n",
      "(55, 27)\n",
      "(55, 27)\n",
      "(55, 27)\n",
      "(55, 27)\n",
      "(55, 27)\n",
      "(55, 27)\n",
      "(55, 27)\n",
      "(55, 27)\n",
      "(55, 27)\n",
      "(55, 27)\n",
      "(55, 27)\n",
      "(55, 27)\n"
     ]
    },
    {
     "name": "stderr",
     "output_type": "stream",
     "text": [
      "  4%|▎         | 1274/36000 [00:18<08:14, 70.23it/s]"
     ]
    },
    {
     "name": "stdout",
     "output_type": "stream",
     "text": [
      "(55, 27)\n",
      "(55, 27)\n",
      "(55, 27)\n",
      "(55, 27)\n",
      "(55, 27)\n",
      "(55, 27)\n",
      "(55, 27)\n",
      "(55, 27)\n",
      "(55, 27)\n",
      "(55, 27)\n",
      "(55, 27)\n",
      "(55, 27)\n",
      "(55, 27)\n",
      "(55, 27)\n",
      "(55, 27)\n"
     ]
    },
    {
     "name": "stderr",
     "output_type": "stream",
     "text": [
      "  4%|▎         | 1290/36000 [00:18<08:15, 70.07it/s]"
     ]
    },
    {
     "name": "stdout",
     "output_type": "stream",
     "text": [
      "(55, 27)\n",
      "(55, 27)\n",
      "(55, 27)\n",
      "(55, 27)\n",
      "(55, 27)\n",
      "(55, 27)\n",
      "(55, 27)\n",
      "(55, 27)\n",
      "(55, 27)\n",
      "(55, 27)\n",
      "(55, 27)\n",
      "(55, 27)\n",
      "(55, 27)\n",
      "(55, 27)\n",
      "(55, 27)\n"
     ]
    },
    {
     "name": "stderr",
     "output_type": "stream",
     "text": [
      "  4%|▎         | 1306/36000 [00:18<08:13, 70.30it/s]"
     ]
    },
    {
     "name": "stdout",
     "output_type": "stream",
     "text": [
      "(55, 27)\n",
      "(55, 27)\n",
      "(55, 27)\n",
      "(55, 27)\n",
      "(55, 27)\n",
      "(55, 27)\n",
      "(55, 27)\n",
      "(55, 27)\n",
      "(55, 27)\n",
      "(55, 27)\n",
      "(55, 27)\n",
      "(55, 27)\n",
      "(55, 27)\n",
      "(55, 27)\n",
      "(55, 27)\n"
     ]
    },
    {
     "name": "stderr",
     "output_type": "stream",
     "text": [
      "  4%|▎         | 1322/36000 [00:18<08:13, 70.21it/s]"
     ]
    },
    {
     "name": "stdout",
     "output_type": "stream",
     "text": [
      "(55, 27)\n",
      "(55, 27)\n",
      "(55, 27)\n",
      "(55, 27)\n",
      "(55, 27)\n",
      "(55, 27)\n",
      "(55, 27)\n",
      "(55, 27)\n",
      "(55, 27)\n",
      "(55, 27)\n",
      "(55, 27)\n",
      "(55, 27)\n",
      "(55, 27)\n",
      "(55, 27)\n",
      "(55, 27)\n"
     ]
    },
    {
     "name": "stderr",
     "output_type": "stream",
     "text": [
      "  4%|▎         | 1330/36000 [00:18<08:15, 69.96it/s]"
     ]
    }
   ],
   "source": [
    "num_imus = 3\n",
    "\n",
    "# randomly generate position arrangement of IMUs\n",
    "Rb = []\n",
    "pos = []\n",
    "for j in range(num_imus):\n",
    "    pos.append(np.random.rand(3)) # position of jth imu in DISIMU\n",
    "    Rb.append(np.eye(3)) # orientation of jth imu in DISIMU\n",
    "pos_r = np.asarray(pos)\n",
    "Rb_si = np.asarray(Rb)\n",
    "w_input_noise = 1e-5\n",
    "a_input_noise = 1e-5\n",
    "\n",
    "# parameters from datasheet\n",
    "gyroscope_wn = 0.002 # degrees / s / sqrt(Hz)\n",
    "accelerometer_wn = 0.016 # m / s^2 / sqrt(Hz)\n",
    "gyroscope_arw = 0.09 # degrees / sqrt(Hr)\n",
    "accelerometer_vrw = 0.008 # m / s / sqrt(Hr)\n",
    "WN = np.hstack((gyroscope_wn*np.ones(3*num_imus), accelerometer_wn*np.ones(3*num_imus)))\n",
    "RW = np.hstack((gyroscope_arw*np.ones(3*num_imus), accelerometer_vrw*np.ones(3*num_imus)))\n",
    "\n",
    "dt = 1e-2\n",
    "time = np.arange(0, 360, dt)\n",
    "\n",
    "# state: omega, alpha, accel, 6 x number_of_imus (RW)\n",
    "state = np.zeros(9 + 6*num_imus)\n",
    "state_est = np.zeros(9 + 6*num_imus)\n",
    "omega = np.array([1, 1, 1])\n",
    "omega_dot = np.array([0, 0, 0])\n",
    "sf = np.array([0, 0, 10]) # assuming 10 m/s^2 for gravity\n",
    "state_est[0:3] = omega\n",
    "state_est[6:9] = sf\n",
    "state[0:3] = omega\n",
    "state[6:9] = sf\n",
    "state_hist = np.zeros((len(time), 9 + 6*num_imus))\n",
    "state_est_hist = np.zeros((len(time), 9 + 6*num_imus))\n",
    "meas = np.zeros(6*num_imus)\n",
    "meas_hist = np.zeros((len(time),6*num_imus))\n",
    "\n",
    "# Covariance of dynamics\n",
    "R = np.zeros((9 + 6*num_imus, 9 + 6*num_imus))\n",
    "R[3:6,3:6] = w_input_noise ** 2 * np.eye(3)\n",
    "R[6:9,6:9] = a_input_noise ** 2 * np.eye(3)\n",
    "R[9:9+6*num_imus, 9:9+6*num_imus] = np.diag(RW**2)\n",
    "\n",
    "Q = np.diag(WN**2)\n",
    "Cov_est = 1e-4*np.eye(9+6*num_imus)\n",
    "\n",
    "for i in trange(len(time)):\n",
    "    state_hist[i] = state\n",
    "    state = dynamics(dt, state, RW, w_input_noise, a_input_noise, num_imus)\n",
    "    meas = measurements[i]\n",
    "    meas_hist[i] = meas\n",
    "    state_est, Cov_est = UKF_disi(state, Cov_est, R, Q, meas, dt, pos_r, Rb_si, num_imus)\n",
    "    state_est_hist[i] = state_est\n"
   ]
  },
  {
   "cell_type": "markdown",
   "metadata": {},
   "source": [
    "## Allan Variance Visualization"
   ]
  },
  {
   "cell_type": "code",
   "execution_count": null,
   "metadata": {},
   "outputs": [],
   "source": [
    "# DISIMU, omega hat\n",
    "tau_wx, avar_wx = allan_variance.compute_avar(state_est_hist[:,0], dt)\n",
    "tau_wy, avar_wy = allan_variance.compute_avar(state_est_hist[:,1], dt)\n",
    "tau_wz, avar_wz = allan_variance.compute_avar(state_est_hist[:,2], dt)\n",
    "params_wx, avar_pred_wx = allan_variance.estimate_parameters(tau_wx, avar_wx)\n",
    "params_wy, avar_pred_wy = allan_variance.estimate_parameters(tau_wy, avar_wy)\n",
    "params_wz, avar_pred_wz = allan_variance.estimate_parameters(tau_wz, avar_wz)\n",
    "print(f\"DISIMU omega hat: {params_wx}, {params_wy}, {params_wz}\")\n",
    "\n",
    "# Computed\n",
    "fig, ax = plt.subplots()\n",
    "plt.loglog(tau_wx, avar_pred_wx, label=\"$\\hat{\\omega}_x$\", linewidth=5, color = \"#0060B0\")\n",
    "plt.loglog(tau_wy, avar_pred_wx, label=\"$\\hat{\\omega}_y$\", linewidth=5, color = \"#723255\")\n",
    "plt.loglog(tau_wz, avar_pred_wx, label=\"$\\hat{\\omega}_z$\", linewidth=5, color = \"#EC9F06\")\n",
    "# Estimated\n",
    "plt.loglog(tau_wx, avar_wx, '.', label=\"$\\hat{\\omega}_x$\", linewidth=5, color = \"#0060B0\")\n",
    "plt.loglog(tau_wy, avar_wy, '.', label=\"$\\hat{\\omega}_y$\", linewidth=5, color = \"#723255\")\n",
    "plt.loglog(tau_wz, avar_wz, '.', label=\"$\\hat{\\omega}_z$\", linewidth=5, color = \"#EC9F06\")\n",
    "# ax.set_ylim([0.00000001, 1])\n",
    "\n",
    "line1, = plt.plot([], [], color='k', linestyle=\"-\", alpha=0.7, linewidth=5, label='Computed')\n",
    "line2, = plt.plot([], [], color='k', linestyle=\"dotted\", alpha=0.7, linewidth=5, label='Estimated with model parameters')\n",
    "\n",
    "plt.legend(ncol=3, fancybox=True, frameon=True, fontsize=8, loc='upper center')\n",
    "plt.xlabel(\"Averaging time (s)\")\n",
    "plt.ylabel(\"Allan Variance ($\\hat{\\omega}$)\")"
   ]
  },
  {
   "cell_type": "code",
   "execution_count": null,
   "metadata": {},
   "outputs": [],
   "source": [
    "# individual IMUs, omega hat\n",
    "fig, ax = plt.subplots()\n",
    "for j in range(num_imus):\n",
    "    tau_wx, avar_wx = allan_variance.compute_avar(meas_hist[:,j*6], dt)\n",
    "    tau_wy, avar_wy = allan_variance.compute_avar(meas_hist[:,j*6+1], dt)\n",
    "    tau_wz, avar_wz = allan_variance.compute_avar(meas_hist[:,j*6+2], dt)\n",
    "    params_wx, avar_pred_wx = allan_variance.estimate_parameters(tau_wx, avar_wx)\n",
    "    params_wy, avar_pred_wy = allan_variance.estimate_parameters(tau_wy, avar_wy)\n",
    "    params_wz, avar_pred_wz = allan_variance.estimate_parameters(tau_wz, avar_wz)\n",
    "    print(f\"IMU {j+1} SF hat: {params_wx}, {params_wy}, {params_wz}\")\n",
    "\n",
    "    # Estimated\n",
    "    plt.loglog(tau_wx, avar_pred_wx, '-', label=\"$\\hat{\\omega}_x$\"+f\", IMU {j+1}\", linewidth=5, color = \"#0060B0\")\n",
    "    plt.loglog(tau_wy, avar_pred_wy, '-', label=\"$\\hat{\\omega}_y$\"+f\", IMU {j+1}\", linewidth=5, color = \"#723255\")\n",
    "    plt.loglog(tau_wz, avar_pred_wz, '-', label=\"$\\hat{\\omega}_z$\"+f\", IMU {j+1}\", linewidth=5, color = \"#EC9F06\")\n",
    "\n",
    "# ax.set_ylim([0.00000001, 0.01])\n",
    "plt.legend(ncol=3, fancybox=True, frameon=True, fontsize=8, loc='upper center')\n",
    "plt.xlabel(\"Averaging time (s)\")\n",
    "plt.ylabel(\"Allan Variance ($\\hat{\\omega}$)\")"
   ]
  },
  {
   "cell_type": "code",
   "execution_count": null,
   "metadata": {},
   "outputs": [],
   "source": [
    "# DISIMU, SF hat\n",
    "tau_fx, avar_fx = allan_variance.compute_avar(state_est_hist[:,6], dt)\n",
    "tau_fy, avar_fy = allan_variance.compute_avar(state_est_hist[:,7], dt)\n",
    "tau_fz, avar_fz = allan_variance.compute_avar(state_est_hist[:,8], dt)\n",
    "params_fx, avar_pred_fx = allan_variance.estimate_parameters(tau_fx, avar_fx)\n",
    "params_fy, avar_pred_fy = allan_variance.estimate_parameters(tau_fy, avar_fy)\n",
    "params_fz, avar_pred_fz = allan_variance.estimate_parameters(tau_fz, avar_fz)\n",
    "\n",
    "# Computed\n",
    "fig, ax = plt.subplots()\n",
    "plt.loglog(tau_fx, avar_pred_fx, label=\"$\\hat{SF}_x$\", linewidth=5, color = \"#0060B0\")\n",
    "plt.loglog(tau_fy, avar_pred_fy, label=\"$\\hat{SF}_y$\", linewidth=5, color = \"#723255\")\n",
    "plt.loglog(tau_fz, avar_pred_fz, label=\"$\\hat{SF}_z$\", linewidth=5, color = \"#EC9F06\")\n",
    "# Estimated\n",
    "plt.loglog(tau_fx, avar_fx, '.', label=\"$\\hat{SF}_x$\", linewidth=5, color = \"#0060B0\")\n",
    "plt.loglog(tau_fy, avar_fy, '.', label=\"$\\hat{SF}_y$\", linewidth=5, color = \"#723255\")\n",
    "plt.loglog(tau_fz, avar_fz, '.', label=\"$\\hat{SF}_z$\", linewidth=5, color = \"#EC9F06\")\n",
    "# ax.set_ylim([0.00000001, 0.01])\n",
    "\n",
    "line1, = plt.plot([], [], color='k', linestyle=\"-\", alpha=0.7, linewidth=5, label='Computed')\n",
    "line2, = plt.plot([], [], color='k', linestyle=\"dotted\", alpha=0.7, linewidth=5, label='Estimated with model parameters')\n",
    "\n",
    "plt.legend(ncol=3, fancybox=True, frameon=True, fontsize=8, loc='upper right')\n",
    "plt.xlabel(\"Averaging time (s)\")\n",
    "plt.ylabel(\"Allan Variance ($\\hat{SF}$)\")"
   ]
  },
  {
   "cell_type": "code",
   "execution_count": null,
   "metadata": {},
   "outputs": [],
   "source": [
    "# individual IMUs, SF hat\n",
    "fig, ax = plt.subplots()\n",
    "for j in range(num_imus):\n",
    "    tau_fx, avar_fx = allan_variance.compute_avar(meas_hist[:,j*6+3], dt)\n",
    "    tau_fy, avar_fy = allan_variance.compute_avar(meas_hist[:,j*6+4], dt)\n",
    "    tau_fz, avar_fz = allan_variance.compute_avar(meas_hist[:,j*6+5], dt)\n",
    "    params_fx, avar_pred_fx = allan_variance.estimate_parameters(tau_fx, avar_fx)\n",
    "    params_fy, avar_pred_fy = allan_variance.estimate_parameters(tau_fy, avar_fy)\n",
    "    params_fz, avar_pred_fz = allan_variance.estimate_parameters(tau_fz, avar_fz)\n",
    "    print(f\"IMU {j+1} SF hat: {params_fx}, {params_fy}, {params_fz}/n\")\n",
    "\n",
    "    # Estimated\n",
    "    plt.loglog(tau_fx, avar_pred_fx, '-', label=\"$\\hat{SF}_x$\"+f\", IMU {j+1}\", linewidth=5, color = \"#0060B0\")\n",
    "    plt.loglog(tau_fy, avar_pred_fy, '-', label=\"$\\hat{SF}_y$\"+f\", IMU {j+1}\", linewidth=5, color = \"#723255\")\n",
    "    plt.loglog(tau_fz, avar_pred_fz, '-', label=\"$\\hat{SF}_z$\"+f\", IMU {j+1}\", linewidth=5, color = \"#EC9F06\")\n",
    "\n",
    "# ax.set_ylim([0.00000001, 0.01])\n",
    "plt.legend(ncol=3, fancybox=True, frameon=True, fontsize=8, loc='upper center')\n",
    "plt.xlabel(\"Averaging time (s)\")\n",
    "plt.ylabel(\"Allan Variance ($\\hat{SF}$)\")"
   ]
  },
  {
   "cell_type": "code",
   "execution_count": null,
   "metadata": {},
   "outputs": [],
   "source": [
    "# single IMU, omega hat\n",
    "fig1, ax1 = plt.subplots(figsize = (12, 6))\n",
    "ax1.plot(time[:], state_est_hist[:,0], linewidth=5, color = \"#0060B0\", label = \"$\\hat{\\omega}_x$\")\n",
    "ax1.plot(time[:], state_est_hist[:,1], linewidth=5, color = \"#723255\", label = \"$\\hat{\\omega}_y$\")\n",
    "ax1.plot(time[:], state_est_hist[:,2], linewidth=5, color = \"#EC9F06\", label = \"$\\hat{\\omega}_z$\")\n",
    "ax1.tick_params(axis='both', which='major', labelsize=12)\n",
    "# ax1.set_ylim([-0.5, 2])\n",
    "ax1.legend(ncol=3, fancybox=True, frameon=True, fontsize=12, bbox_to_anchor=(0.65, -0.12))\n",
    "ax1.set_xlabel(\"Time (s)\", fontsize=12)\n",
    "ax1.set_ylabel(\"$\\hat{\\omega}$ (rad/s)\", fontsize=12)"
   ]
  },
  {
   "cell_type": "code",
   "execution_count": null,
   "metadata": {},
   "outputs": [],
   "source": [
    "# omega\n",
    "fig2, ax2 = plt.subplots(figsize = (12, 6))\n",
    "ax2.plot(time[:], state_hist[:,0], linewidth=5, color = \"#0060B0\", label = \"$\\omega_x$\")\n",
    "ax2.plot(time[:], state_hist[:,1], linewidth=5, color = \"#723255\", label = \"$\\omega_y$\")\n",
    "ax2.plot(time[:], state_hist[:,2], linewidth=5, color = \"#EC9F06\", label = \"$\\omega_z$\")\n",
    "ax2.tick_params(axis='both', which='major', labelsize=12)\n",
    "ax2.legend(ncol=3, fancybox=True, frameon=True, fontsize=12, bbox_to_anchor=(0.65, -0.12))\n",
    "ax2.set_xlabel(\"Time (s)\", fontsize=12)\n",
    "# ax2.set_ylim([-0.005, 0.005]) # using same units as above\n",
    "ax2.set_ylabel(\"$\\omega$ (rad/s)\", fontsize=12)"
   ]
  },
  {
   "cell_type": "code",
   "execution_count": null,
   "metadata": {},
   "outputs": [],
   "source": [
    "# fused omega hat dot\n",
    "fig3, ax3 = plt.subplots(3, 1, figsize = (12, 6))\n",
    "ax3[0].plot(time, state_est_hist[:,3], linewidth=5, color = \"#0060B0\", label = \"$\\hat{\\dot{\\omega}}_x$\")\n",
    "ax3[1].plot(time, state_est_hist[:,4], linewidth=5, color = \"#723255\", label = \"$\\hat{\\dot{\\omega}}_y$\")\n",
    "ax3[2].plot(time, state_est_hist[:,5], linewidth=5, color = \"#EC9F06\", label = \"$\\hat{\\dot{\\omega}}_z$\")\n",
    "# ax3[0].set_ylim([-0.1, 0.1])\n",
    "# ax3[1].set_ylim([-0.1, 0.1])\n",
    "# ax3[2].set_ylim([-0.1, 0.1])\n",
    "ax3[0].set_ylabel(\"$\\hat{\\dot{\\omega}}_x$ (rad/$s^2$)\", fontsize=12)\n",
    "ax3[1].set_ylabel(\"$\\hat{\\dot{\\omega}}_y$ (rad/$s^2$)\", fontsize=12)\n",
    "ax3[2].set_ylabel(\"$\\hat{\\dot{\\omega}}_z$ (rad/$s^2$)\", fontsize=12)\n",
    "ax3[2].set_xlabel(\"Time (s)\", fontsize=12)"
   ]
  },
  {
   "cell_type": "code",
   "execution_count": null,
   "metadata": {},
   "outputs": [],
   "source": [
    "# dynamics, omega dot\n",
    "fig4, ax4 = plt.subplots(figsize = (12, 6))\n",
    "ax4.plot(time[:], state_hist[:,0], linewidth=5, color = \"#0060B0\", label = \"$\\omega_x$\")\n",
    "ax4.plot(time[:], state_hist[:,1], linewidth=5, color = \"#723255\", label = \"$\\omega_y$\")\n",
    "ax4.plot(time[:], state_hist[:,2], linewidth=5, color = \"#EC9F06\", label = \"$\\omega_z$\")\n",
    "ax4.tick_params(axis='both', which='major', labelsize=12)\n",
    "ax4.legend(ncol=3, fancybox=True, frameon=True, fontsize=12, bbox_to_anchor=(0.65, -0.12))\n",
    "ax4.set_xlabel(\"Time (s)\", fontsize=12)\n",
    "# ax4.set_ylim([-0.005, 0.005]) # using same units as above\n",
    "ax4.set_ylabel(\"$\\dot{\\omega}$ (rad/s)\", fontsize=12)"
   ]
  },
  {
   "cell_type": "code",
   "execution_count": null,
   "metadata": {},
   "outputs": [],
   "source": [
    "# system, SF hat\n",
    "fig5, ax5 = plt.subplots(3, 1, figsize = (12, 6))\n",
    "ax5[0].plot(time, state_est_hist[:,6], linewidth=5, color = \"#0060B0\", label = \"$\\hat{SF}_x$\")\n",
    "ax5[1].plot(time, state_est_hist[:,7], linewidth=5, color = \"#723255\", label = \"$\\hat{SF}_y$\")\n",
    "ax5[2].plot(time, state_est_hist[:,8], linewidth=5, color = \"#EC9F06\", label = \"$\\hat{SF}_z$\")\n",
    "# ax5[0].set_ylim([-0.1, 0.1])\n",
    "# ax5[1].set_ylim([-0.1, 0.1])\n",
    "# ax5[2].set_ylim([-0.1, 0.1])\n",
    "ax5[0].set_ylabel(\"$\\hat{SF}_x$ (m/$s^2$)\", fontsize=12)\n",
    "ax5[1].set_ylabel(\"$\\hat{SF}_y$ (m/$s^2$)\", fontsize=12)\n",
    "ax5[2].set_ylabel(\"$\\hat{SF}_z$ (m/$s^2$)\", fontsize=12)\n",
    "ax5[2].set_xlabel(\"Time (s)\", fontsize=12)"
   ]
  },
  {
   "cell_type": "code",
   "execution_count": null,
   "metadata": {},
   "outputs": [],
   "source": [
    "# dynamics, SF\n",
    "# plt.figure(figsize = (12, 6))\n",
    "# plt.plot(time, state_hist[:,6])\n",
    "# plt.plot(time, state_hist[:,7])\n",
    "# plt.plot(time, state_hist[:,8])\n",
    "# plt.title(\"specific force\")\n",
    "\n",
    "fig6, ax6 = plt.subplots(3, 1, figsize = (12, 6))\n",
    "ax6[0].plot(time, state_hist[:,6], linewidth=5, color = \"#0060B0\", label = \"$SF_x$\")\n",
    "ax6[1].plot(time, state_hist[:,7], linewidth=5, color = \"#723255\", label = \"$SF_y$\")\n",
    "ax6[2].plot(time, state_hist[:,8], linewidth=5, color = \"#EC9F06\", label = \"$SF_z$\")\n",
    "# ax3[0].set_ylim([-0.0025, 0.0025])\n",
    "# ax3[1].set_ylim([-0.0025, 0.0025])\n",
    "# ax3[2].set_ylim([-0.0025, 0.0025])\n",
    "# ax6[0].set_ylim([-0.005, 0.005])\n",
    "# ax6[1].set_ylim([-0.005, 0.005])\n",
    "# ax6[2].set_ylim([-0.005, 0.005])\n",
    "ax6[0].set_ylabel(\"$SF_x$ (m/$s^2$)\", fontsize=12)\n",
    "ax6[1].set_ylabel(\"$SF_y$ (m/$s^2$)\", fontsize=12)\n",
    "ax6[2].set_ylabel(\"$SF_z$ (m/$s^2$)\", fontsize=12)\n",
    "ax6[2].set_xlabel(\"Time (s)\", fontsize=12)"
   ]
  },
  {
   "cell_type": "code",
   "execution_count": null,
   "metadata": {},
   "outputs": [],
   "source": [
    "plt.figure(figsize = (12, 6))\n",
    "for jth in range(num_imus):\n",
    "    plt.plot(time, meas_hist[:,j*6])\n",
    "    plt.plot(time, meas_hist[:,j*6+1])\n",
    "    plt.plot(time, meas_hist[:,j*6+2])\n",
    "plt.ylabel(\"$\\omega$ ($^o/s$)\")\n",
    "plt.xlabel(\"Time (s)\")"
   ]
  },
  {
   "cell_type": "code",
   "execution_count": null,
   "metadata": {},
   "outputs": [],
   "source": [
    "plt.figure(figsize = (12, 6))\n",
    "for j in range(num_imus):\n",
    "    plt.plot(time, meas_hist[:,j*6+3])\n",
    "    plt.plot(time, meas_hist[:,j*6+4])\n",
    "    plt.plot(time, meas_hist[:,j*6+5])\n",
    "plt.ylabel(\"$SF$ ($m/s^2$)\")\n",
    "plt.xlabel(\"Time (s)\")"
   ]
  },
  {
   "cell_type": "code",
   "execution_count": null,
   "metadata": {},
   "outputs": [],
   "source": [
    "plt.figure(figsize = (12, 6))\n",
    "plt.plot(time, state_est_hist[:,9])\n",
    "plt.plot(time, state_est_hist[:,10])\n",
    "plt.plot(time, state_est_hist[:,11])\n",
    "plt.title(\"RW\")"
   ]
  },
  {
   "cell_type": "code",
   "execution_count": null,
   "metadata": {},
   "outputs": [],
   "source": [
    "plt.figure(figsize = (12, 6))\n",
    "plt.plot(time, state_est_hist[:,12])\n",
    "plt.plot(time, state_est_hist[:,13])\n",
    "plt.plot(time, state_est_hist[:,14])\n",
    "plt.title(\"RW\")"
   ]
  },
  {
   "cell_type": "code",
   "execution_count": null,
   "metadata": {},
   "outputs": [],
   "source": [
    "plt.figure(figsize = (12, 6))\n",
    "plt.plot(time, state_est_hist[:,15])\n",
    "plt.plot(time, state_est_hist[:,16])\n",
    "plt.plot(time, state_est_hist[:,17])\n",
    "plt.title(\"RW\")"
   ]
  },
  {
   "cell_type": "code",
   "execution_count": null,
   "metadata": {},
   "outputs": [],
   "source": [
    "plt.figure(figsize = (12, 6))\n",
    "plt.plot(time, state_est_hist[:,18])\n",
    "plt.plot(time, state_est_hist[:,19])\n",
    "plt.plot(time, state_est_hist[:,20])\n",
    "plt.title(\"GM\")"
   ]
  }
 ],
 "metadata": {
  "kernelspec": {
   "display_name": "Python 3",
   "language": "python",
   "name": "python3"
  },
  "language_info": {
   "codemirror_mode": {
    "name": "ipython",
    "version": 3
   },
   "file_extension": ".py",
   "mimetype": "text/x-python",
   "name": "python",
   "nbconvert_exporter": "python",
   "pygments_lexer": "ipython3",
   "version": "3.8.10"
  }
 },
 "nbformat": 4,
 "nbformat_minor": 2
}
